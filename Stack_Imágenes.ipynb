{
  "nbformat": 4,
  "nbformat_minor": 0,
  "metadata": {
    "colab": {
      "name": "Stack_Imágenes.ipynb",
      "provenance": [],
      "collapsed_sections": [],
      "authorship_tag": "ABX9TyMl6a/2DfpKshsrKncFdl/J",
      "include_colab_link": true
    },
    "kernelspec": {
      "name": "python3",
      "display_name": "Python 3"
    },
    "language_info": {
      "name": "python"
    },
    "accelerator": "GPU"
  },
  "cells": [
    {
      "cell_type": "markdown",
      "metadata": {
        "id": "view-in-github",
        "colab_type": "text"
      },
      "source": [
        "<a href=\"https://colab.research.google.com/github/jfcepeda97/DATASET_DESLIZAMIENTOS_Via-Aloag_Santo_Domingo/blob/master/Stack_Im%C3%A1genes.ipynb\" target=\"_parent\"><img src=\"https://colab.research.google.com/assets/colab-badge.svg\" alt=\"Open In Colab\"/></a>"
      ]
    },
    {
      "cell_type": "code",
      "source": [
        "import glob\n",
        "from PIL import Image, ImageChops, ImageFilter\n",
        "import numpy as np\n",
        "import matplotlib.pyplot as plt\n",
        "%matplotlib inline\n",
        "import os\n",
        "from osgeo import gdal"
      ],
      "metadata": {
        "id": "bo0cR8muGEn1"
      },
      "execution_count": 9,
      "outputs": []
    },
    {
      "cell_type": "code",
      "source": [
        "from google.colab import drive\n",
        "drive.mount('/content/drive')"
      ],
      "metadata": {
        "colab": {
          "base_uri": "https://localhost:8080/"
        },
        "id": "R28Q3mQbFkF8",
        "outputId": "bd3de1ad-388a-485e-a4ea-5f5fb19ee0cd"
      },
      "execution_count": 1,
      "outputs": [
        {
          "output_type": "stream",
          "name": "stdout",
          "text": [
            "Mounted at /content/drive\n"
          ]
        }
      ]
    },
    {
      "cell_type": "code",
      "source": [
        "Aspect= glob.glob(\"/content/drive/MyDrive/Colab Notebooks/PROYECTO SOFTWARE/DATASET_CORREGIDA/NO DESLIZAMIENTO/Aspect\")\n",
        "Channel_Network= glob.glob(\"/content/drive/MyDrive/Colab Notebooks/PROYECTO SOFTWARE/DATASET_CORREGIDA/NO DESLIZAMIENTO/Channel Network Base Level\")\n",
        "Channel_Distance= glob.glob(\"/content/drive/MyDrive/Colab Notebooks/PROYECTO SOFTWARE/DATASET_CORREGIDA/NO DESLIZAMIENTO/Channel Network Distance\")\n",
        "Distance_faults= glob.glob(\"/content/drive/MyDrive/Colab Notebooks/PROYECTO SOFTWARE/DATASET_CORREGIDA/NO DESLIZAMIENTO/Distance to faults\")\n",
        "Distance_roads= glob.glob(\"/content/drive/MyDrive/Colab Notebooks/PROYECTO SOFTWARE/DATASET_CORREGIDA/NO DESLIZAMIENTO/Distance to road\")\n",
        "Elevation= glob.glob(\"/content/drive/MyDrive/Colab Notebooks/PROYECTO SOFTWARE/DATASET_CORREGIDA/NO DESLIZAMIENTO/Elevation\")\n",
        "Geology= glob.glob(\"/content/drive/MyDrive/Colab Notebooks/PROYECTO SOFTWARE/DATASET_CORREGIDA/NO DESLIZAMIENTO/Geology\")\n",
        "LS_Factor= glob.glob(\"/content/drive/MyDrive/Colab Notebooks/PROYECTO SOFTWARE/DATASET_CORREGIDA/NO DESLIZAMIENTO/LS-Factor\")\n",
        "Plan_curvature= glob.glob(\"/content/drive/MyDrive/Colab Notebooks/PROYECTO SOFTWARE/DATASET_CORREGIDA/NO DESLIZAMIENTO/Plan Curvature\")\n",
        "Profile_curvature= glob.glob(\"/content/drive/MyDrive/Colab Notebooks/PROYECTO SOFTWARE/DATASET_CORREGIDA/NO DESLIZAMIENTO/Profile Curvature\")\n",
        "Relative_slope= glob.glob(\"/content/drive/MyDrive/Colab Notebooks/PROYECTO SOFTWARE/DATASET_CORREGIDA/NO DESLIZAMIENTO/Relative Slope Position\")\n",
        "Slope= glob.glob(\"/content/drive/MyDrive/Colab Notebooks/PROYECTO SOFTWARE/DATASET_CORREGIDA/NO DESLIZAMIENTO/Slope\")\n",
        "TWI= glob.glob(\"/content/drive/MyDrive/Colab Notebooks/PROYECTO SOFTWARE/DATASET_CORREGIDA/NO DESLIZAMIENTO/Topographic Wetness Index\")\n",
        "Vegetation=glob.glob(\"/content/drive/MyDrive/Colab Notebooks/PROYECTO SOFTWARE/DATASET_CORREGIDA/NO DESLIZAMIENTO/Vegetation\")\n"
      ],
      "metadata": {
        "id": "yDNI8AKzaTR8"
      },
      "execution_count": 35,
      "outputs": []
    },
    {
      "cell_type": "code",
      "source": [
        "basename= '*.tif'\n",
        "outdir2= '/content/drive/MyDrive/Colab Notebooks/PROYECTO SOFTWARE/RASTER_0'\n",
        "filelist2= glob.glob(os.path.join(outdir2,basename))\n",
        "files_string= \" \".join(filelist2)\n",
        "print(files_string)"
      ],
      "metadata": {
        "colab": {
          "base_uri": "https://localhost:8080/"
        },
        "id": "eEHFEKPoOeNJ",
        "outputId": "aac20849-ccf2-449a-8de6-486ba65dae60"
      },
      "execution_count": 11,
      "outputs": [
        {
          "output_type": "stream",
          "name": "stdout",
          "text": [
            "/content/drive/MyDrive/Colab Notebooks/PROYECTO SOFTWARE/RASTER_0/Aspect_0.tif /content/drive/MyDrive/Colab Notebooks/PROYECTO SOFTWARE/RASTER_0/Channel Network Base Level_0.tif /content/drive/MyDrive/Colab Notebooks/PROYECTO SOFTWARE/RASTER_0/Channel Network Distance_0.tif /content/drive/MyDrive/Colab Notebooks/PROYECTO SOFTWARE/RASTER_0/Elevation_0.tif /content/drive/MyDrive/Colab Notebooks/PROYECTO SOFTWARE/RASTER_0/LS-Factor_0.tif /content/drive/MyDrive/Colab Notebooks/PROYECTO SOFTWARE/RASTER_0/Plan Curvature_0.tif /content/drive/MyDrive/Colab Notebooks/PROYECTO SOFTWARE/RASTER_0/Profile Curvature_0.tif /content/drive/MyDrive/Colab Notebooks/PROYECTO SOFTWARE/RASTER_0/Relative Slope Position_0.tif /content/drive/MyDrive/Colab Notebooks/PROYECTO SOFTWARE/RASTER_0/Slope_0.tif /content/drive/MyDrive/Colab Notebooks/PROYECTO SOFTWARE/RASTER_0/TWI_0.tif /content/drive/MyDrive/Colab Notebooks/PROYECTO SOFTWARE/RASTER_0/Vegetation_0.tif /content/drive/MyDrive/Colab Notebooks/PROYECTO SOFTWARE/RASTER_0/Geology_0.tif /content/drive/MyDrive/Colab Notebooks/PROYECTO SOFTWARE/RASTER_0/Distance to faults_0.tif /content/drive/MyDrive/Colab Notebooks/PROYECTO SOFTWARE/RASTER_0/Distance to road_0.tif\n"
          ]
        }
      ]
    },
    {
      "cell_type": "code",
      "source": [
        "gg= gdal.BuildVRT(\"\", filelist2, separate= True)\n",
        "g= gdal.Translate(\"Raster_0.tif\",gg, format= \"GTiff\")"
      ],
      "metadata": {
        "id": "UI-5tlwrOqpS"
      },
      "execution_count": 43,
      "outputs": []
    },
    {
      "cell_type": "code",
      "source": [
        "import os \n",
        "directorio_actual= os.getcwd()\n",
        "print('El directorio actual es: ',directorio_actual)"
      ],
      "metadata": {
        "colab": {
          "base_uri": "https://localhost:8080/"
        },
        "id": "TbaJRXjNcOuU",
        "outputId": "6bb4ed2f-dd4a-425c-8de2-26886e0b443f"
      },
      "execution_count": 39,
      "outputs": [
        {
          "output_type": "stream",
          "name": "stdout",
          "text": [
            "El directorio actual es:  /content\n"
          ]
        }
      ]
    },
    {
      "cell_type": "code",
      "source": [
        "os.makedirs('Resultados_No_Deslizamientos')"
      ],
      "metadata": {
        "id": "eQ4lobmlc93W"
      },
      "execution_count": 40,
      "outputs": []
    },
    {
      "cell_type": "code",
      "source": [
        "dataset = gdal.Open(r'/content/Raster_0.tif')\n",
        "print(dataset.RasterCount)"
      ],
      "metadata": {
        "colab": {
          "base_uri": "https://localhost:8080/"
        },
        "id": "dszB5aDaMifB",
        "outputId": "e340bafb-e647-46bf-857c-8c0a9a0fe64f"
      },
      "execution_count": 16,
      "outputs": [
        {
          "output_type": "stream",
          "name": "stdout",
          "text": [
            "14\n"
          ]
        }
      ]
    },
    {
      "cell_type": "code",
      "source": [
        "dataset.GetProjection()"
      ],
      "metadata": {
        "colab": {
          "base_uri": "https://localhost:8080/",
          "height": 105
        },
        "id": "dpwM5U2vYjOT",
        "outputId": "1a4aadc7-fec2-48f5-80e6-96049dba454a"
      },
      "execution_count": 28,
      "outputs": [
        {
          "output_type": "execute_result",
          "data": {
            "application/vnd.google.colaboratory.intrinsic+json": {
              "type": "string"
            },
            "text/plain": [
              "'PROJCS[\"WGS 84 / UTM zone 17S\",GEOGCS[\"WGS 84\",DATUM[\"WGS_1984\",SPHEROID[\"WGS 84\",6378137,298.257223563,AUTHORITY[\"EPSG\",\"7030\"]],AUTHORITY[\"EPSG\",\"6326\"]],PRIMEM[\"Greenwich\",0,AUTHORITY[\"EPSG\",\"8901\"]],UNIT[\"degree\",0.0174532925199433,AUTHORITY[\"EPSG\",\"9122\"]],AUTHORITY[\"EPSG\",\"4326\"]],PROJECTION[\"Transverse_Mercator\"],PARAMETER[\"latitude_of_origin\",0],PARAMETER[\"central_meridian\",-81],PARAMETER[\"scale_factor\",0.9996],PARAMETER[\"false_easting\",500000],PARAMETER[\"false_northing\",10000000],UNIT[\"metre\",1,AUTHORITY[\"EPSG\",\"9001\"]],AXIS[\"Easting\",EAST],AXIS[\"Northing\",NORTH],AUTHORITY[\"EPSG\",\"32717\"]]'"
            ]
          },
          "metadata": {},
          "execution_count": 28
        }
      ]
    },
    {
      "cell_type": "code",
      "source": [
        "dataset.RasterXSize\n"
      ],
      "metadata": {
        "colab": {
          "base_uri": "https://localhost:8080/"
        },
        "id": "-grYCErFYvyJ",
        "outputId": "1c7f366d-cd58-49cd-e9b2-259fb10d6abf"
      },
      "execution_count": 32,
      "outputs": [
        {
          "output_type": "execute_result",
          "data": {
            "text/plain": [
              "5"
            ]
          },
          "metadata": {},
          "execution_count": 32
        }
      ]
    },
    {
      "cell_type": "code",
      "source": [
        "dataset.RasterYSize"
      ],
      "metadata": {
        "colab": {
          "base_uri": "https://localhost:8080/"
        },
        "id": "vi30OIWIY3nm",
        "outputId": "b3680c3f-3b49-4e96-9e31-95c456b3a08b"
      },
      "execution_count": 31,
      "outputs": [
        {
          "output_type": "execute_result",
          "data": {
            "text/plain": [
              "5"
            ]
          },
          "metadata": {},
          "execution_count": 31
        }
      ]
    },
    {
      "cell_type": "code",
      "source": [
        "Aspect = dataset.GetRasterBand(1) \n",
        "Channel_Network= dataset.GetRasterBand(2) \n",
        "Channel_Distance = dataset.GetRasterBand(3) \n",
        "Distance_faults = dataset.GetRasterBand(4)\n",
        "Distance_roads = dataset.GetRasterBand(5)\n",
        "Geology = dataset.GetRasterBand(6) \n",
        "Elevation = dataset.GetRasterBand(7) \n",
        "LS_Factor = dataset.GetRasterBand(8) \n",
        "Plan_curvature = dataset.GetRasterBand(9) \n",
        "Profile_curvature = dataset.GetRasterBand(10) \n",
        "Relative_slope = dataset.GetRasterBand(11) \n",
        "Slope = dataset.GetRasterBand(12) \n",
        "TWI = dataset.GetRasterBand(13) \n",
        "Vegetation = dataset.GetRasterBand(14)"
      ],
      "metadata": {
        "id": "lxdrAjNbO7U9"
      },
      "execution_count": 19,
      "outputs": []
    },
    {
      "cell_type": "code",
      "source": [
        "Aspecto = Aspect.ReadAsArray()\n",
        "Channel_N = Channel_Network.ReadAsArray()\n",
        "Channel_D = Channel_Distance.ReadAsArray()\n",
        "Distance_F = Distance_faults.ReadAsArray()\n",
        "Distance_R = Distance_roads.ReadAsArray()\n",
        "Geology1 = Geology.ReadAsArray()\n",
        "Elevation1 = Elevation.ReadAsArray()\n",
        "LS_F = LS_Factor.ReadAsArray()\n",
        "Plan_c = Plan_curvature.ReadAsArray()\n",
        "Profile_c = Profile_curvature.ReadAsArray()\n",
        "R_slope = Relative_slope.ReadAsArray()\n",
        "Slope1 = Slope.ReadAsArray()\n",
        "TWI1= TWI.ReadAsArray()\n",
        "Vegetation1 = Vegetation.ReadAsArray()"
      ],
      "metadata": {
        "id": "8dnerrcRKuO_"
      },
      "execution_count": 20,
      "outputs": []
    },
    {
      "cell_type": "code",
      "source": [
        "img = np.dstack((Aspecto, Channel_N, Channel_D, Distance_F, Distance_R, Geology1, Elevation1, LS_F, Plan_c, Profile_c, R_slope, Slope1, TWI1, Vegetation1)) \n",
        "f = plt.figure() \n",
        "plt.imshow(img) \n",
        "plt.savefig('Raster0.tif') \n",
        "plt.show()"
      ],
      "metadata": {
        "colab": {
          "base_uri": "https://localhost:8080/",
          "height": 649
        },
        "id": "iwuMD7tBP7MN",
        "outputId": "ace97db3-5cb2-4bf4-9124-83a64d388b6b"
      },
      "execution_count": 36,
      "outputs": [
        {
          "output_type": "error",
          "ename": "TypeError",
          "evalue": "ignored",
          "traceback": [
            "\u001b[0;31m---------------------------------------------------------------------------\u001b[0m",
            "\u001b[0;31mTypeError\u001b[0m                                 Traceback (most recent call last)",
            "\u001b[0;32m<ipython-input-36-27d04872c23e>\u001b[0m in \u001b[0;36m<module>\u001b[0;34m()\u001b[0m\n\u001b[1;32m      1\u001b[0m \u001b[0mimg\u001b[0m \u001b[0;34m=\u001b[0m \u001b[0mnp\u001b[0m\u001b[0;34m.\u001b[0m\u001b[0mdstack\u001b[0m\u001b[0;34m(\u001b[0m\u001b[0;34m(\u001b[0m\u001b[0mAspecto\u001b[0m\u001b[0;34m,\u001b[0m \u001b[0mChannel_N\u001b[0m\u001b[0;34m,\u001b[0m \u001b[0mChannel_D\u001b[0m\u001b[0;34m,\u001b[0m \u001b[0mDistance_F\u001b[0m\u001b[0;34m,\u001b[0m \u001b[0mDistance_R\u001b[0m\u001b[0;34m,\u001b[0m \u001b[0mGeology1\u001b[0m\u001b[0;34m,\u001b[0m \u001b[0mElevation1\u001b[0m\u001b[0;34m,\u001b[0m \u001b[0mLS_F\u001b[0m\u001b[0;34m,\u001b[0m \u001b[0mPlan_c\u001b[0m\u001b[0;34m,\u001b[0m \u001b[0mProfile_c\u001b[0m\u001b[0;34m,\u001b[0m \u001b[0mR_slope\u001b[0m\u001b[0;34m,\u001b[0m \u001b[0mSlope1\u001b[0m\u001b[0;34m,\u001b[0m \u001b[0mTWI1\u001b[0m\u001b[0;34m,\u001b[0m \u001b[0mVegetation1\u001b[0m\u001b[0;34m)\u001b[0m\u001b[0;34m)\u001b[0m\u001b[0;34m\u001b[0m\u001b[0;34m\u001b[0m\u001b[0m\n\u001b[1;32m      2\u001b[0m \u001b[0mf\u001b[0m \u001b[0;34m=\u001b[0m \u001b[0mplt\u001b[0m\u001b[0;34m.\u001b[0m\u001b[0mfigure\u001b[0m\u001b[0;34m(\u001b[0m\u001b[0;34m)\u001b[0m\u001b[0;34m\u001b[0m\u001b[0;34m\u001b[0m\u001b[0m\n\u001b[0;32m----> 3\u001b[0;31m \u001b[0mplt\u001b[0m\u001b[0;34m.\u001b[0m\u001b[0mimshow\u001b[0m\u001b[0;34m(\u001b[0m\u001b[0mimg\u001b[0m\u001b[0;34m)\u001b[0m\u001b[0;34m\u001b[0m\u001b[0;34m\u001b[0m\u001b[0m\n\u001b[0m\u001b[1;32m      4\u001b[0m \u001b[0mplt\u001b[0m\u001b[0;34m.\u001b[0m\u001b[0msavefig\u001b[0m\u001b[0;34m(\u001b[0m\u001b[0;34m'Raster0.tif'\u001b[0m\u001b[0;34m)\u001b[0m\u001b[0;34m\u001b[0m\u001b[0;34m\u001b[0m\u001b[0m\n\u001b[1;32m      5\u001b[0m \u001b[0mplt\u001b[0m\u001b[0;34m.\u001b[0m\u001b[0mshow\u001b[0m\u001b[0;34m(\u001b[0m\u001b[0;34m)\u001b[0m\u001b[0;34m\u001b[0m\u001b[0;34m\u001b[0m\u001b[0m\n",
            "\u001b[0;32m/usr/local/lib/python3.7/dist-packages/matplotlib/pyplot.py\u001b[0m in \u001b[0;36mimshow\u001b[0;34m(X, cmap, norm, aspect, interpolation, alpha, vmin, vmax, origin, extent, shape, filternorm, filterrad, imlim, resample, url, data, **kwargs)\u001b[0m\n\u001b[1;32m   2649\u001b[0m         \u001b[0mfilternorm\u001b[0m\u001b[0;34m=\u001b[0m\u001b[0mfilternorm\u001b[0m\u001b[0;34m,\u001b[0m \u001b[0mfilterrad\u001b[0m\u001b[0;34m=\u001b[0m\u001b[0mfilterrad\u001b[0m\u001b[0;34m,\u001b[0m \u001b[0mimlim\u001b[0m\u001b[0;34m=\u001b[0m\u001b[0mimlim\u001b[0m\u001b[0;34m,\u001b[0m\u001b[0;34m\u001b[0m\u001b[0;34m\u001b[0m\u001b[0m\n\u001b[1;32m   2650\u001b[0m         resample=resample, url=url, **({\"data\": data} if data is not\n\u001b[0;32m-> 2651\u001b[0;31m         None else {}), **kwargs)\n\u001b[0m\u001b[1;32m   2652\u001b[0m     \u001b[0msci\u001b[0m\u001b[0;34m(\u001b[0m\u001b[0m__ret\u001b[0m\u001b[0;34m)\u001b[0m\u001b[0;34m\u001b[0m\u001b[0;34m\u001b[0m\u001b[0m\n\u001b[1;32m   2653\u001b[0m     \u001b[0;32mreturn\u001b[0m \u001b[0m__ret\u001b[0m\u001b[0;34m\u001b[0m\u001b[0;34m\u001b[0m\u001b[0m\n",
            "\u001b[0;32m/usr/local/lib/python3.7/dist-packages/matplotlib/__init__.py\u001b[0m in \u001b[0;36minner\u001b[0;34m(ax, data, *args, **kwargs)\u001b[0m\n\u001b[1;32m   1563\u001b[0m     \u001b[0;32mdef\u001b[0m \u001b[0minner\u001b[0m\u001b[0;34m(\u001b[0m\u001b[0max\u001b[0m\u001b[0;34m,\u001b[0m \u001b[0;34m*\u001b[0m\u001b[0margs\u001b[0m\u001b[0;34m,\u001b[0m \u001b[0mdata\u001b[0m\u001b[0;34m=\u001b[0m\u001b[0;32mNone\u001b[0m\u001b[0;34m,\u001b[0m \u001b[0;34m**\u001b[0m\u001b[0mkwargs\u001b[0m\u001b[0;34m)\u001b[0m\u001b[0;34m:\u001b[0m\u001b[0;34m\u001b[0m\u001b[0;34m\u001b[0m\u001b[0m\n\u001b[1;32m   1564\u001b[0m         \u001b[0;32mif\u001b[0m \u001b[0mdata\u001b[0m \u001b[0;32mis\u001b[0m \u001b[0;32mNone\u001b[0m\u001b[0;34m:\u001b[0m\u001b[0;34m\u001b[0m\u001b[0;34m\u001b[0m\u001b[0m\n\u001b[0;32m-> 1565\u001b[0;31m             \u001b[0;32mreturn\u001b[0m \u001b[0mfunc\u001b[0m\u001b[0;34m(\u001b[0m\u001b[0max\u001b[0m\u001b[0;34m,\u001b[0m \u001b[0;34m*\u001b[0m\u001b[0mmap\u001b[0m\u001b[0;34m(\u001b[0m\u001b[0msanitize_sequence\u001b[0m\u001b[0;34m,\u001b[0m \u001b[0margs\u001b[0m\u001b[0;34m)\u001b[0m\u001b[0;34m,\u001b[0m \u001b[0;34m**\u001b[0m\u001b[0mkwargs\u001b[0m\u001b[0;34m)\u001b[0m\u001b[0;34m\u001b[0m\u001b[0;34m\u001b[0m\u001b[0m\n\u001b[0m\u001b[1;32m   1566\u001b[0m \u001b[0;34m\u001b[0m\u001b[0m\n\u001b[1;32m   1567\u001b[0m         \u001b[0mbound\u001b[0m \u001b[0;34m=\u001b[0m \u001b[0mnew_sig\u001b[0m\u001b[0;34m.\u001b[0m\u001b[0mbind\u001b[0m\u001b[0;34m(\u001b[0m\u001b[0max\u001b[0m\u001b[0;34m,\u001b[0m \u001b[0;34m*\u001b[0m\u001b[0margs\u001b[0m\u001b[0;34m,\u001b[0m \u001b[0;34m**\u001b[0m\u001b[0mkwargs\u001b[0m\u001b[0;34m)\u001b[0m\u001b[0;34m\u001b[0m\u001b[0;34m\u001b[0m\u001b[0m\n",
            "\u001b[0;32m/usr/local/lib/python3.7/dist-packages/matplotlib/cbook/deprecation.py\u001b[0m in \u001b[0;36mwrapper\u001b[0;34m(*args, **kwargs)\u001b[0m\n\u001b[1;32m    356\u001b[0m                 \u001b[0;34mf\"%(removal)s.  If any parameter follows {name!r}, they \"\u001b[0m\u001b[0;34m\u001b[0m\u001b[0;34m\u001b[0m\u001b[0m\n\u001b[1;32m    357\u001b[0m                 f\"should be pass as keyword, not positionally.\")\n\u001b[0;32m--> 358\u001b[0;31m         \u001b[0;32mreturn\u001b[0m \u001b[0mfunc\u001b[0m\u001b[0;34m(\u001b[0m\u001b[0;34m*\u001b[0m\u001b[0margs\u001b[0m\u001b[0;34m,\u001b[0m \u001b[0;34m**\u001b[0m\u001b[0mkwargs\u001b[0m\u001b[0;34m)\u001b[0m\u001b[0;34m\u001b[0m\u001b[0;34m\u001b[0m\u001b[0m\n\u001b[0m\u001b[1;32m    359\u001b[0m \u001b[0;34m\u001b[0m\u001b[0m\n\u001b[1;32m    360\u001b[0m     \u001b[0;32mreturn\u001b[0m \u001b[0mwrapper\u001b[0m\u001b[0;34m\u001b[0m\u001b[0;34m\u001b[0m\u001b[0m\n",
            "\u001b[0;32m/usr/local/lib/python3.7/dist-packages/matplotlib/cbook/deprecation.py\u001b[0m in \u001b[0;36mwrapper\u001b[0;34m(*args, **kwargs)\u001b[0m\n\u001b[1;32m    356\u001b[0m                 \u001b[0;34mf\"%(removal)s.  If any parameter follows {name!r}, they \"\u001b[0m\u001b[0;34m\u001b[0m\u001b[0;34m\u001b[0m\u001b[0m\n\u001b[1;32m    357\u001b[0m                 f\"should be pass as keyword, not positionally.\")\n\u001b[0;32m--> 358\u001b[0;31m         \u001b[0;32mreturn\u001b[0m \u001b[0mfunc\u001b[0m\u001b[0;34m(\u001b[0m\u001b[0;34m*\u001b[0m\u001b[0margs\u001b[0m\u001b[0;34m,\u001b[0m \u001b[0;34m**\u001b[0m\u001b[0mkwargs\u001b[0m\u001b[0;34m)\u001b[0m\u001b[0;34m\u001b[0m\u001b[0;34m\u001b[0m\u001b[0m\n\u001b[0m\u001b[1;32m    359\u001b[0m \u001b[0;34m\u001b[0m\u001b[0m\n\u001b[1;32m    360\u001b[0m     \u001b[0;32mreturn\u001b[0m \u001b[0mwrapper\u001b[0m\u001b[0;34m\u001b[0m\u001b[0;34m\u001b[0m\u001b[0m\n",
            "\u001b[0;32m/usr/local/lib/python3.7/dist-packages/matplotlib/axes/_axes.py\u001b[0m in \u001b[0;36mimshow\u001b[0;34m(self, X, cmap, norm, aspect, interpolation, alpha, vmin, vmax, origin, extent, shape, filternorm, filterrad, imlim, resample, url, **kwargs)\u001b[0m\n\u001b[1;32m   5624\u001b[0m                               resample=resample, **kwargs)\n\u001b[1;32m   5625\u001b[0m \u001b[0;34m\u001b[0m\u001b[0m\n\u001b[0;32m-> 5626\u001b[0;31m         \u001b[0mim\u001b[0m\u001b[0;34m.\u001b[0m\u001b[0mset_data\u001b[0m\u001b[0;34m(\u001b[0m\u001b[0mX\u001b[0m\u001b[0;34m)\u001b[0m\u001b[0;34m\u001b[0m\u001b[0;34m\u001b[0m\u001b[0m\n\u001b[0m\u001b[1;32m   5627\u001b[0m         \u001b[0mim\u001b[0m\u001b[0;34m.\u001b[0m\u001b[0mset_alpha\u001b[0m\u001b[0;34m(\u001b[0m\u001b[0malpha\u001b[0m\u001b[0;34m)\u001b[0m\u001b[0;34m\u001b[0m\u001b[0;34m\u001b[0m\u001b[0m\n\u001b[1;32m   5628\u001b[0m         \u001b[0;32mif\u001b[0m \u001b[0mim\u001b[0m\u001b[0;34m.\u001b[0m\u001b[0mget_clip_path\u001b[0m\u001b[0;34m(\u001b[0m\u001b[0;34m)\u001b[0m \u001b[0;32mis\u001b[0m \u001b[0;32mNone\u001b[0m\u001b[0;34m:\u001b[0m\u001b[0;34m\u001b[0m\u001b[0;34m\u001b[0m\u001b[0m\n",
            "\u001b[0;32m/usr/local/lib/python3.7/dist-packages/matplotlib/image.py\u001b[0m in \u001b[0;36mset_data\u001b[0;34m(self, A)\u001b[0m\n\u001b[1;32m    697\u001b[0m                 or self._A.ndim == 3 and self._A.shape[-1] in [3, 4]):\n\u001b[1;32m    698\u001b[0m             raise TypeError(\"Invalid shape {} for image data\"\n\u001b[0;32m--> 699\u001b[0;31m                             .format(self._A.shape))\n\u001b[0m\u001b[1;32m    700\u001b[0m \u001b[0;34m\u001b[0m\u001b[0m\n\u001b[1;32m    701\u001b[0m         \u001b[0;32mif\u001b[0m \u001b[0mself\u001b[0m\u001b[0;34m.\u001b[0m\u001b[0m_A\u001b[0m\u001b[0;34m.\u001b[0m\u001b[0mndim\u001b[0m \u001b[0;34m==\u001b[0m \u001b[0;36m3\u001b[0m\u001b[0;34m:\u001b[0m\u001b[0;34m\u001b[0m\u001b[0;34m\u001b[0m\u001b[0m\n",
            "\u001b[0;31mTypeError\u001b[0m: Invalid shape (5, 5, 14) for image data"
          ]
        },
        {
          "output_type": "display_data",
          "data": {
            "image/png": "[encoded data removed]",
            "text/plain": [
              "<Figure size 432x288 with 1 Axes>"
            ]
          },
          "metadata": {
            "needs_background": "light"
          }
        }
      ]
    }
  ]
}