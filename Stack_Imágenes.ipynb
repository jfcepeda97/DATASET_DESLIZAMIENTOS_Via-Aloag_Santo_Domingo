{
  "nbformat": 4,
  "nbformat_minor": 0,
  "metadata": {
    "colab": {
      "name": "Stack_Imágenes.ipynb",
      "provenance": [],
      "collapsed_sections": [],
      "authorship_tag": "ABX9TyPS+PIAm6Fgu9rIPCIivVPJ",
      "include_colab_link": true
    },
    "kernelspec": {
      "name": "python3",
      "display_name": "Python 3"
    },
    "language_info": {
      "name": "python"
    },
    "accelerator": "GPU"
  },
  "cells": [
    {
      "cell_type": "markdown",
      "metadata": {
        "id": "view-in-github",
        "colab_type": "text"
      },
      "source": [
        "<a href=\"https://colab.research.google.com/github/jfcepeda97/DATASET_DESLIZAMIENTOS_Via-Aloag_Santo_Domingo/blob/master/Stack_Im%C3%A1genes.ipynb\" target=\"_parent\"><img src=\"https://colab.research.google.com/assets/colab-badge.svg\" alt=\"Open In Colab\"/></a>"
      ]
    },
    {
      "cell_type": "markdown",
      "source": [
        "#IMPORTAR LIBRERÍAS"
      ],
      "metadata": {
        "id": "qzuLq3JulBR0"
      }
    },
    {
      "cell_type": "code",
      "source": [
        "import glob\n",
        "from PIL import Image, ImageChops, ImageFilter\n",
        "import numpy as np\n",
        "import matplotlib.pyplot as plt\n",
        "%matplotlib inline\n",
        "import os\n",
        "from osgeo import gdal"
      ],
      "metadata": {
        "id": "bo0cR8muGEn1"
      },
      "execution_count": null,
      "outputs": []
    },
    {
      "cell_type": "code",
      "source": [
        "from google.colab import drive\n",
        "drive.mount('/content/drive')"
      ],
      "metadata": {
        "colab": {
          "base_uri": "https://localhost:8080/"
        },
        "id": "R28Q3mQbFkF8",
        "outputId": "8746eac2-4a17-4b1a-85ce-85c7f1438cd6"
      },
      "execution_count": null,
      "outputs": [
        {
          "output_type": "stream",
          "name": "stdout",
          "text": [
            "Mounted at /content/drive\n"
          ]
        }
      ]
    },
    {
      "cell_type": "markdown",
      "source": [
        "#CARGA DE DATA"
      ],
      "metadata": {
        "id": "87MajGHullEO"
      }
    },
    {
      "cell_type": "code",
      "source": [
        "basename= '*.tif'\n",
        "outdir2= '/content/drive/MyDrive/Colab Notebooks/PROYECTO SOFTWARE/RASTER_0'\n",
        "filelist2= glob.glob(os.path.join(outdir2,basename))\n",
        "files_string= \" \".join(filelist2)\n",
        "print(files_string)"
      ],
      "metadata": {
        "colab": {
          "base_uri": "https://localhost:8080/"
        },
        "id": "eEHFEKPoOeNJ",
        "outputId": "2e34f786-2512-4aee-c890-00b78cc37c52"
      },
      "execution_count": null,
      "outputs": [
        {
          "output_type": "stream",
          "name": "stdout",
          "text": [
            "/content/drive/MyDrive/Colab Notebooks/PROYECTO SOFTWARE/RASTER_0/Aspect_0.tif /content/drive/MyDrive/Colab Notebooks/PROYECTO SOFTWARE/RASTER_0/Channel Network Base Level_0.tif /content/drive/MyDrive/Colab Notebooks/PROYECTO SOFTWARE/RASTER_0/Channel Network Distance_0.tif /content/drive/MyDrive/Colab Notebooks/PROYECTO SOFTWARE/RASTER_0/Elevation_0.tif /content/drive/MyDrive/Colab Notebooks/PROYECTO SOFTWARE/RASTER_0/LS-Factor_0.tif /content/drive/MyDrive/Colab Notebooks/PROYECTO SOFTWARE/RASTER_0/Plan Curvature_0.tif /content/drive/MyDrive/Colab Notebooks/PROYECTO SOFTWARE/RASTER_0/Profile Curvature_0.tif /content/drive/MyDrive/Colab Notebooks/PROYECTO SOFTWARE/RASTER_0/Relative Slope Position_0.tif /content/drive/MyDrive/Colab Notebooks/PROYECTO SOFTWARE/RASTER_0/Slope_0.tif /content/drive/MyDrive/Colab Notebooks/PROYECTO SOFTWARE/RASTER_0/TWI_0.tif /content/drive/MyDrive/Colab Notebooks/PROYECTO SOFTWARE/RASTER_0/Vegetation_0.tif /content/drive/MyDrive/Colab Notebooks/PROYECTO SOFTWARE/RASTER_0/Geology_0.tif /content/drive/MyDrive/Colab Notebooks/PROYECTO SOFTWARE/RASTER_0/Distance to faults_0.tif /content/drive/MyDrive/Colab Notebooks/PROYECTO SOFTWARE/RASTER_0/Distance to road_0.tif\n"
          ]
        }
      ]
    },
    {
      "cell_type": "markdown",
      "source": [
        "#STACK DE IMÁGENES RÁSTER (14 VARIABLES)"
      ],
      "metadata": {
        "id": "HU9dHzPLl67l"
      }
    },
    {
      "cell_type": "code",
      "source": [
        "gg= gdal.BuildVRT(\"\", filelist2, separate= True)\n",
        "g= gdal.Translate(\"Raster_0.tif\",gg, format= \"GTiff\")"
      ],
      "metadata": {
        "id": "UI-5tlwrOqpS"
      },
      "execution_count": null,
      "outputs": []
    },
    {
      "cell_type": "markdown",
      "source": [
        "##INFORMACIÓN DEL RESULTADO"
      ],
      "metadata": {
        "id": "16g8BrqDm_s_"
      }
    },
    {
      "cell_type": "markdown",
      "source": [
        "###LECTURA DE ARCHIVOS RASTER CON GDAL"
      ],
      "metadata": {
        "id": "RKXmxzRzn3dn"
      }
    },
    {
      "cell_type": "code",
      "source": [
        "dataset = gdal.Open(r'/content/Raster_0.tif')\n",
        "print(dataset.RasterCount)\n",
        "#El resultado final de cada una de las bandas corresponde a las variables: Banda1(Aspecto), Banda2(Channel_Network), \n",
        "#Banda3(Channel_Distance), Banda4(Elevation), Banda5(Channel_Network), Banda6(Plan_Curvature), Banda7(Profile_Network),\n",
        "#Banda8(Relative_Slope_Position), Banda9(Slope), Banda10(TWI), Banda11(Vegetation), Banda12(Geology), Banda13(Distance_Faults),\n",
        "#Banda14(Distance_Roads)."
      ],
      "metadata": {
        "colab": {
          "base_uri": "https://localhost:8080/"
        },
        "id": "dszB5aDaMifB",
        "outputId": "db25e4d5-f442-43fb-c548-5669906ed37d"
      },
      "execution_count": null,
      "outputs": [
        {
          "output_type": "stream",
          "name": "stdout",
          "text": [
            "14\n"
          ]
        }
      ]
    },
    {
      "cell_type": "code",
      "source": [
        "dataset.GetProjection()"
      ],
      "metadata": {
        "colab": {
          "base_uri": "https://localhost:8080/",
          "height": 105
        },
        "id": "dpwM5U2vYjOT",
        "outputId": "2512315e-61d6-4683-84c0-76f9f4d0feb6"
      },
      "execution_count": null,
      "outputs": [
        {
          "output_type": "execute_result",
          "data": {
            "application/vnd.google.colaboratory.intrinsic+json": {
              "type": "string"
            },
            "text/plain": [
              "'PROJCS[\"WGS 84 / UTM zone 17S\",GEOGCS[\"WGS 84\",DATUM[\"WGS_1984\",SPHEROID[\"WGS 84\",6378137,298.257223563,AUTHORITY[\"EPSG\",\"7030\"]],AUTHORITY[\"EPSG\",\"6326\"]],PRIMEM[\"Greenwich\",0,AUTHORITY[\"EPSG\",\"8901\"]],UNIT[\"degree\",0.0174532925199433,AUTHORITY[\"EPSG\",\"9122\"]],AUTHORITY[\"EPSG\",\"4326\"]],PROJECTION[\"Transverse_Mercator\"],PARAMETER[\"latitude_of_origin\",0],PARAMETER[\"central_meridian\",-81],PARAMETER[\"scale_factor\",0.9996],PARAMETER[\"false_easting\",500000],PARAMETER[\"false_northing\",10000000],UNIT[\"metre\",1,AUTHORITY[\"EPSG\",\"9001\"]],AXIS[\"Easting\",EAST],AXIS[\"Northing\",NORTH],AUTHORITY[\"EPSG\",\"32717\"]]'"
            ]
          },
          "metadata": {},
          "execution_count": 7
        }
      ]
    },
    {
      "cell_type": "code",
      "source": [
        "dataset.RasterXSize\n"
      ],
      "metadata": {
        "colab": {
          "base_uri": "https://localhost:8080/"
        },
        "id": "-grYCErFYvyJ",
        "outputId": "3107e332-1677-4066-a53e-30d8a5356348"
      },
      "execution_count": null,
      "outputs": [
        {
          "output_type": "execute_result",
          "data": {
            "text/plain": [
              "5"
            ]
          },
          "metadata": {},
          "execution_count": 8
        }
      ]
    },
    {
      "cell_type": "code",
      "source": [
        "dataset.RasterYSize"
      ],
      "metadata": {
        "colab": {
          "base_uri": "https://localhost:8080/"
        },
        "id": "vi30OIWIY3nm",
        "outputId": "bc01ac66-6fa6-4759-d5f4-98f56e542b28"
      },
      "execution_count": null,
      "outputs": [
        {
          "output_type": "execute_result",
          "data": {
            "text/plain": [
              "5"
            ]
          },
          "metadata": {},
          "execution_count": 9
        }
      ]
    },
    {
      "cell_type": "markdown",
      "source": [
        "##OBTENCIÓN DE LAS BANDAS DEL RÁSTER"
      ],
      "metadata": {
        "id": "sWCXY9ZJnLoQ"
      }
    },
    {
      "cell_type": "code",
      "source": [
        "Aspect = dataset.GetRasterBand(1) \n",
        "Channel_Network= dataset.GetRasterBand(2) \n",
        "Channel_Distance = dataset.GetRasterBand(3) \n",
        "Distance_faults = dataset.GetRasterBand(4)\n",
        "Distance_roads = dataset.GetRasterBand(5)\n",
        "Geology = dataset.GetRasterBand(6) \n",
        "Elevation = dataset.GetRasterBand(7) \n",
        "LS_Factor = dataset.GetRasterBand(8) \n",
        "Plan_curvature = dataset.GetRasterBand(9) \n",
        "Profile_curvature = dataset.GetRasterBand(10) \n",
        "Relative_slope = dataset.GetRasterBand(11) \n",
        "Slope = dataset.GetRasterBand(12) \n",
        "TWI = dataset.GetRasterBand(13) \n",
        "Vegetation = dataset.GetRasterBand(14)"
      ],
      "metadata": {
        "id": "lxdrAjNbO7U9"
      },
      "execution_count": null,
      "outputs": []
    },
    {
      "cell_type": "code",
      "source": [
        "Aspecto = Aspect.ReadAsArray()\n",
        "Channel_N = Channel_Network.ReadAsArray()\n",
        "Channel_D = Channel_Distance.ReadAsArray()\n",
        "Distance_F = Distance_faults.ReadAsArray()\n",
        "Distance_R = Distance_roads.ReadAsArray()\n",
        "Geology1 = Geology.ReadAsArray()\n",
        "Elevation1 = Elevation.ReadAsArray()\n",
        "LS_F = LS_Factor.ReadAsArray()\n",
        "Plan_c = Plan_curvature.ReadAsArray()\n",
        "Profile_c = Profile_curvature.ReadAsArray()\n",
        "R_slope = Relative_slope.ReadAsArray()\n",
        "Slope1 = Slope.ReadAsArray()\n",
        "TWI1= TWI.ReadAsArray()\n",
        "Vegetation1 = Vegetation.ReadAsArray()"
      ],
      "metadata": {
        "id": "8dnerrcRKuO_"
      },
      "execution_count": null,
      "outputs": []
    },
    {
      "cell_type": "markdown",
      "source": [
        "##LECTURA DE IMAGEN COMO ARRAY CON NUMPY"
      ],
      "metadata": {
        "id": "O3maAdoHnxe2"
      }
    },
    {
      "cell_type": "code",
      "source": [
        "img = np.dstack((Aspecto, Channel_N, Channel_D, Distance_F, Distance_R, Geology1, Elevation1, LS_F, Plan_c, Profile_c, R_slope, Slope1, TWI1, Vegetation1)) \n",
        "print(img[0][0][2])\n"
      ],
      "metadata": {
        "colab": {
          "base_uri": "https://localhost:8080/"
        },
        "id": "iwuMD7tBP7MN",
        "outputId": "76b4a7f0-1295-4dcf-d729-41f4ab526bd7"
      },
      "execution_count": null,
      "outputs": [
        {
          "output_type": "stream",
          "name": "stdout",
          "text": [
            "12.936523\n"
          ]
        }
      ]
    },
    {
      "cell_type": "code",
      "source": [
        "img1 = img.reshape(1,5,5,14)\n",
        "print(img1.shape)\n",
        "labels = np.array([1])\n",
        "print(labels.shape)"
      ],
      "metadata": {
        "colab": {
          "base_uri": "https://localhost:8080/"
        },
        "id": "eyvZn7EYYfqW",
        "outputId": "5caf1b15-f404-4d73-e1dd-a6d560266515"
      },
      "execution_count": null,
      "outputs": [
        {
          "output_type": "stream",
          "name": "stdout",
          "text": [
            "(1, 5, 5, 14)\n",
            "(1,)\n"
          ]
        }
      ]
    },
    {
      "cell_type": "markdown",
      "source": [
        "#RED CONVOLUCIONAL"
      ],
      "metadata": {
        "id": "RNkxB938o3rG"
      }
    },
    {
      "cell_type": "markdown",
      "source": [
        "##DEFINICIÓN DEL MODELO"
      ],
      "metadata": {
        "id": "Dyn7BHX7qAvj"
      }
    },
    {
      "cell_type": "code",
      "source": [
        "from tensorflow.keras import datasets, layers, models\n",
        "from keras.layers import Dense, Flatten, Conv2D, MaxPool2D, Dropout\n",
        "\n",
        "model = models.Sequential()\n",
        "model.add(layers.Conv2D(32, (3, 3), activation='relu', input_shape=(5, 5, 14)))\n",
        "model.add(layers.Conv2D(64, (3, 3), activation='relu'))\n",
        "model.add(layers.Flatten())\n",
        "model.add(layers.Dense(64, activation='relu'))\n",
        "model.add(layers.Dense(1, activation='sigmoid'))\n",
        "\n",
        "model.summary()\n",
        "tf.keras.utils.plot_model(model, to_file='model_plot.png', show_shapes=True, show_layer_names=True)"
      ],
      "metadata": {
        "colab": {
          "base_uri": "https://localhost:8080/",
          "height": 974
        },
        "id": "XsrY9o2ICZb5",
        "outputId": "4d5c7111-3cc9-4d9c-dbc4-60eb352dc3f9"
      },
      "execution_count": null,
      "outputs": [
        {
          "output_type": "stream",
          "name": "stdout",
          "text": [
            "Model: \"sequential_16\"\n",
            "_________________________________________________________________\n",
            " Layer (type)                Output Shape              Param #   \n",
            "=================================================================\n",
            " conv2d_38 (Conv2D)          (None, 3, 3, 32)          4064      \n",
            "                                                                 \n",
            " conv2d_39 (Conv2D)          (None, 1, 1, 64)          18496     \n",
            "                                                                 \n",
            " flatten_11 (Flatten)        (None, 64)                0         \n",
            "                                                                 \n",
            " dense_18 (Dense)            (None, 64)                4160      \n",
            "                                                                 \n",
            " dense_19 (Dense)            (None, 1)                 65        \n",
            "                                                                 \n",
            "=================================================================\n",
            "Total params: 26,785\n",
            "Trainable params: 26,785\n",
            "Non-trainable params: 0\n",
            "_________________________________________________________________\n"
          ]
        },
        {
          "output_type": "execute_result",
          "data": {
            "image/png": "[encoded data removed]",
            "text/plain": [
              "<IPython.core.display.Image object>"
            ]
          },
          "metadata": {},
          "execution_count": 58
        }
      ]
    },
    {
      "cell_type": "code",
      "source": [
        "model.compile(optimizer='adam',\n",
        "              loss='binary_crossentropy',\n",
        "              metrics=['accuracy'])\n",
        "\n",
        "history = model.fit(img1, labels, epochs=5, verbose=1)"
      ],
      "metadata": {
        "colab": {
          "base_uri": "https://localhost:8080/"
        },
        "id": "RxJIfhrbDd88",
        "outputId": "be28ba4e-e355-4672-c96d-52ed6c05c73b"
      },
      "execution_count": null,
      "outputs": [
        {
          "output_type": "stream",
          "name": "stdout",
          "text": [
            "Epoch 1/5\n",
            "1/1 [==============================] - 1s 531ms/step - loss: 0.0000e+00 - accuracy: 1.0000\n",
            "Epoch 2/5\n",
            "1/1 [==============================] - 0s 10ms/step - loss: 0.0000e+00 - accuracy: 1.0000\n",
            "Epoch 3/5\n",
            "1/1 [==============================] - 0s 10ms/step - loss: 0.0000e+00 - accuracy: 1.0000\n",
            "Epoch 4/5\n",
            "1/1 [==============================] - 0s 11ms/step - loss: 0.0000e+00 - accuracy: 1.0000\n",
            "Epoch 5/5\n",
            "1/1 [==============================] - 0s 13ms/step - loss: 0.0000e+00 - accuracy: 1.0000\n"
          ]
        }
      ]
    },
    {
      "cell_type": "code",
      "source": [
        "acc = history.history['accuracy']\n",
        "loss=history.history['loss']\n",
        "epochs = range(1,len(acc)+1)\n",
        "\n",
        "plt.figure()\n",
        "plt.plot(epochs, acc, 'p', label = 'Training accuracy')\n",
        "plt.title('Training accuracy')\n",
        "plt.ylim(0.0,3.0)\n",
        "plt.legend()\n",
        "\n",
        "plt.figure()\n",
        "plt.plot(epochs, loss, 'p', label = 'Training loss')\n",
        "plt.title('Training loss')\n",
        "plt.ylim(0.0,1.0)\n",
        "plt.legend()"
      ],
      "metadata": {
        "colab": {
          "base_uri": "https://localhost:8080/",
          "height": 562
        },
        "id": "GgjUv1QcZdPG",
        "outputId": "e974ba08-2d37-4985-892d-adc57ecc6915"
      },
      "execution_count": null,
      "outputs": [
        {
          "output_type": "execute_result",
          "data": {
            "text/plain": [
              "<matplotlib.legend.Legend at 0x7fc4d43dd210>"
            ]
          },
          "metadata": {},
          "execution_count": 57
        },
        {
          "output_type": "display_data",
          "data": {
            "image/png": "[encoded data removed]",
            "text/plain": [
              "<Figure size 432x288 with 1 Axes>"
            ]
          },
          "metadata": {
            "needs_background": "light"
          }
        },
        {
          "output_type": "display_data",
          "data": {
            "image/png": "[encoded data removed]",
            "text/plain": [
              "<Figure size 432x288 with 1 Axes>"
            ]
          },
          "metadata": {
            "needs_background": "light"
          }
        }
      ]
    }
  ]
}