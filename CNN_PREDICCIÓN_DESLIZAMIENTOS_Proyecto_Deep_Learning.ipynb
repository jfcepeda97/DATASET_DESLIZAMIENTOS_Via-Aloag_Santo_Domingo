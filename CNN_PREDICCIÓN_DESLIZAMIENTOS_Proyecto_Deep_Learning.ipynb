{
  "cells": [
    {
      "cell_type": "markdown",
      "metadata": {
        "id": "view-in-github",
        "colab_type": "text"
      },
      "source": [
        "<a href=\"https://colab.research.google.com/github/jfcepeda97/DATASET_DESLIZAMIENTOS_Via-Aloag_Santo_Domingo/blob/master/CNN_PREDICCI%C3%93N_DESLIZAMIENTOS_Proyecto_Deep_Learning.ipynb\" target=\"_parent\"><img src=\"https://colab.research.google.com/assets/colab-badge.svg\" alt=\"Open In Colab\"/></a>"
      ]
    },
    {
      "cell_type": "markdown",
      "source": [
        "#IMPORTAR LIBRERÍAS"
      ],
      "metadata": {
        "id": "Uo5jgkYGecBw"
      }
    },
    {
      "cell_type": "code",
      "execution_count": null,
      "metadata": {
        "id": "WdV25ykIY8lF"
      },
      "outputs": [],
      "source": [
        "import tensorflow as tf\n",
        "from tensorflow import keras\n",
        "from tensorflow.keras import layers\n",
        "from tensorflow.keras.callbacks import ModelCheckpoint, ReduceLROnPlateau\n",
        "from keras.models import load_model\n",
        "\n",
        "import pandas as pd\n",
        "import matplotlib.pyplot as plt\n",
        "import numpy as np\n",
        "\n",
        "from PIL import Image\n",
        "import os\n",
        "import os.path\n",
        "from pathlib import Path\n",
        "import torch\n",
        "from mlxtend.plotting import plot_confusion_matrix\n",
        "from typing import List\n",
        "\n",
        "import shutil \n",
        "from shutil import rmtree\n",
        "\n",
        "from sklearn.preprocessing import MinMaxScaler\n",
        "from sklearn.metrics import confusion_matrix, f1_score, roc_curve, precision_score, recall_score, accuracy_score, roc_auc_score\n",
        "from sklearn import metrics\n",
        "from sklearn.model_selection import train_test_split"
      ]
    },
    {
      "cell_type": "code",
      "source": [
        "#Clonar repositorio de Github\n",
        "! git clone 'https://github.com/jfcepeda97/DATASET_DESLIZAMIENTOS_Via-Aloag_Santo_Domingo.git'"
      ],
      "metadata": {
        "id": "PaG30rjs-w2h",
        "colab": {
          "base_uri": "https://localhost:8080/"
        },
        "outputId": "5c0ad4e0-7452-4013-b510-980810a123d2"
      },
      "execution_count": null,
      "outputs": [
        {
          "output_type": "stream",
          "name": "stdout",
          "text": [
            "Cloning into 'DATASET_DESLIZAMIENTOS_Via-Aloag_Santo_Domingo'...\n",
            "remote: Enumerating objects: 802517, done.\u001b[K\n",
            "remote: Counting objects: 100% (802517/802517), done.\u001b[K\n",
            "remote: Compressing objects: 100% (2223/2223), done.\u001b[K\n",
            "remote: Total 802517 (delta 801981), reused 800778 (delta 800289), pack-reused 0\u001b[K\n",
            "Receiving objects: 100% (802517/802517), 101.38 MiB | 19.42 MiB/s, done.\n",
            "Resolving deltas: 100% (801981/801981), done.\n",
            "Checking out files: 100% (828993/828993), done.\n"
          ]
        }
      ]
    },
    {
      "cell_type": "code",
      "source": [
        "#Eliminar carpeta Github\n",
        "rmtree(\"DATASET_DESLIZAMIENTOS_Via-Aloag_Santo_Domingo\")"
      ],
      "metadata": {
        "id": "vcPOpUfLEWwd"
      },
      "execution_count": null,
      "outputs": []
    },
    {
      "cell_type": "markdown",
      "source": [
        "#INICIALIZACIÓN DE TENSOR VACÍO (131,5,5,14)"
      ],
      "metadata": {
        "id": "5l1UISsmeeZ1"
      }
    },
    {
      "cell_type": "code",
      "source": [
        "#Generación de tensores para almacenamiento de datos de entrada\n",
        "inputs= np.empty((262, 5, 5, 19), dtype='float32')\n",
        "bag= np.empty((262, 5, 5, 19), dtype='float32')\n",
        "\n",
        "#Generación de tensores para almacenamiento de datos de salida\n",
        "outputs = np.empty((262,1), dtype='float32')\n",
        "print(inputs.shape)\n",
        "print(outputs.shape)"
      ],
      "metadata": {
        "colab": {
          "base_uri": "https://localhost:8080/"
        },
        "id": "Rgn6YLztSnYF",
        "outputId": "be2fb34e-dd5a-4dcd-91b4-93262684c4a8"
      },
      "execution_count": null,
      "outputs": [
        {
          "output_type": "stream",
          "name": "stdout",
          "text": [
            "(262, 5, 5, 19)\n",
            "(262, 1)\n"
          ]
        }
      ]
    },
    {
      "cell_type": "markdown",
      "source": [
        "#CARGA DE DATA Y STACKING DE IMÁGENES (14 VARIABLES)"
      ],
      "metadata": {
        "id": "SWXuprhvep7X"
      }
    },
    {
      "cell_type": "code",
      "source": [
        "from typing import List\n",
        "Dataset = r'/content/DATASET_DESLIZAMIENTOS_Via-Aloag_Santo_Domingo/DATASET' # Dirección general del DATASET\n",
        "List_of_possibilities = os.listdir(Dataset) # Si deslizamiento / No deslizamiento\n",
        "List_of_possibilities = sorted(List_of_possibilities)  #Organizar en orden alfabético \n",
        "add = 0    \n",
        "local = 0  \n",
        "\n",
        "for your_possibilities_name in List_of_possibilities: # Accede a las carpetas del DATASET\n",
        "  p=os.path.join(Dataset,your_possibilities_name)\n",
        "  Folder = p\n",
        "  List_of_folder = os.listdir(Folder)\n",
        "  List_of_folder = sorted(List_of_folder)  #Organizar en orden alfabético \n",
        "  local = local+1\n",
        "\n",
        "  for your_folder_name in List_of_folder: # Accede a las subcarpetas (cada deslizamiento) del DATASET\n",
        "    a=os.path.join(Folder,your_folder_name)\n",
        "    b=(str(a))\n",
        "    Carpeta = b\n",
        "\n",
        "    add = add+1\n",
        "\n",
        "    List_of_files = os.listdir(Carpeta)\n",
        "    List_of_files = sorted(List_of_files)  #Organizar en orden alfabético \n",
        "\n",
        "    sum=0\n",
        "    for i in [1]:  # Para que las matrices sean definadas antes de ser apiladas\n",
        "      for your_file_name in List_of_files: #Para acceder a cada imagen del DATASET\n",
        "        c=os.path.join(Carpeta,your_file_name)\n",
        "        d=(str(c))\n",
        "\n",
        "        Archivo = d\n",
        "        #print(Archivo)\n",
        "\n",
        "        sum=sum+1\n",
        "        #print(sum)\n",
        "        if sum == 1:\n",
        "          v1 = Image.open(Archivo)\n",
        "          v1array = np.array(v1)\n",
        "        elif sum == 2:\n",
        "          v2 = Image.open(Archivo)\n",
        "          v2array = np.array(v2)\n",
        "        elif sum == 3:\n",
        "          v3 = Image.open(Archivo)\n",
        "          v3array = np.array(v3)\n",
        "        elif sum == 4:\n",
        "          v4 = Image.open(Archivo)\n",
        "          v4array = np.array(v4)\n",
        "        elif sum == 5:\n",
        "          v5 = Image.open(Archivo)\n",
        "          v5array = np.array(v5)\n",
        "        elif sum == 6:\n",
        "          v6 = Image.open(Archivo)\n",
        "          v6array = np.array(v6)\n",
        "        elif sum == 7:\n",
        "          v7 = Image.open(Archivo)\n",
        "          v7array = np.array(v7)\n",
        "          v7array = np.clip(v7array, 0, 1)\n",
        "        elif sum == 8:\n",
        "          v8 = Image.open(Archivo)\n",
        "          v8array = np.array(v8)\n",
        "          v8array = np.clip(v8array, 0, 1)\n",
        "        elif sum ==9:\n",
        "          v9 = Image.open(Archivo)\n",
        "          v9array = np.array(v9)\n",
        "          v9array = np.clip(v9array, 0, 1)\n",
        "        elif sum == 10:\n",
        "          v10 = Image.open(Archivo)\n",
        "          v10array = np.array(v10)\n",
        "          v10array = np.clip(v10array, 0, 1)\n",
        "        elif sum == 11:\n",
        "          v11 = Image.open(Archivo)\n",
        "          v11array = np.array(v11)\n",
        "        elif sum == 12:\n",
        "          v12 = Image.open(Archivo)\n",
        "          v12array = np.array(v12)\n",
        "        elif sum == 13:\n",
        "          v13 = Image.open(Archivo)\n",
        "          v13array = np.array(v13)\n",
        "        elif sum == 14:\n",
        "          v14 = Image.open(Archivo)\n",
        "          v14array = np.array(v14)\n",
        "        elif sum == 15:\n",
        "          v15 = Image.open(Archivo)\n",
        "          v15array = np.array(v15)\n",
        "        elif sum ==16:\n",
        "          v16 = Image.open(Archivo)\n",
        "          v16array = np.array(v16)\n",
        "        elif sum == 17:\n",
        "          v17 = Image.open(Archivo)\n",
        "          v17array = np.array(v17)\n",
        "          v17array = np.clip(v17array, 0, 1)\n",
        "        elif sum == 18:\n",
        "          v18 = Image.open(Archivo)\n",
        "          v18array = np.array(v18)\n",
        "          v18array = np.clip(v18array, 0, 1)\n",
        "        elif sum == 19:\n",
        "          v19 = Image.open(Archivo)\n",
        "          v19array = np.array(v19)\n",
        "          v19array = np.clip(v19array, 0, 1)\n",
        "          \n",
        "      #Stacking de las 19 variables\n",
        "      img = np.dstack((v1array, v2array, v3array, v4array, v5array, v6array, v7array, v8array, v9array, v10array, v11array, v12array, v13array, v14array, v15array, v16array, v17array, v18array, v19array))\n",
        "      img = img.reshape((1,5,5,19))\n",
        "      \n",
        "      #Guardado en el tensor de entrada\n",
        "      inputs[add-1] = img\n",
        "\n",
        "  #Asignación de resultados de las entradas\n",
        "  if local==1:\n",
        "    outputs[0:130]=0\n",
        "  elif local==2:\n",
        "    outputs[131:]=1\n",
        "\n",
        "outputs = np.round(outputs)\n",
        "print (inputs.shape)\n",
        "print (outputs.shape)\n",
        "print('----------------------')\n",
        "print (outputs[:5])\n",
        "print (outputs[131:136])"
      ],
      "metadata": {
        "colab": {
          "base_uri": "https://localhost:8080/"
        },
        "outputId": "dc42a2f3-ed3f-48d4-b548-472791df1864",
        "id": "TPoe9dos95iw"
      },
      "execution_count": null,
      "outputs": [
        {
          "output_type": "stream",
          "name": "stdout",
          "text": [
            "(262, 5, 5, 19)\n",
            "(262, 1)\n",
            "----------------------\n",
            "[[0.]\n",
            " [0.]\n",
            " [0.]\n",
            " [0.]\n",
            " [0.]]\n",
            "[[1.]\n",
            " [1.]\n",
            " [1.]\n",
            " [1.]\n",
            " [1.]]\n"
          ]
        }
      ]
    },
    {
      "cell_type": "code",
      "source": [
        "#Verificación de entradas para variables cualitativas (Vegetación)\n",
        "print('Vegetación 1')\n",
        "print(v17array)\n",
        "print('Vegetación 2')\n",
        "print(v18array)\n",
        "print('Vegetación 3')\n",
        "print(v19array)"
      ],
      "metadata": {
        "colab": {
          "base_uri": "https://localhost:8080/"
        },
        "id": "dRGKSL9iZ42M",
        "outputId": "20fb1b04-4ab9-4f4a-e5a8-5ee236be0600"
      },
      "execution_count": null,
      "outputs": [
        {
          "output_type": "stream",
          "name": "stdout",
          "text": [
            "Vegetación 1\n",
            "[[0 0 0 0 0]\n",
            " [0 0 0 0 0]\n",
            " [0 0 0 0 0]\n",
            " [0 0 0 0 0]\n",
            " [0 0 0 0 0]]\n",
            "Vegetación 2\n",
            "[[0 0 0 0 0]\n",
            " [0 0 0 0 0]\n",
            " [0 0 0 0 0]\n",
            " [0 0 0 0 0]\n",
            " [0 0 0 0 0]]\n",
            "Vegetación 3\n",
            "[[1 1 1 1 1]\n",
            " [1 1 1 1 1]\n",
            " [1 1 1 1 1]\n",
            " [1 1 1 1 1]\n",
            " [1 1 1 1 1]]\n"
          ]
        }
      ]
    },
    {
      "cell_type": "code",
      "source": [
        "fig, ax = plt.subplots(2,10,figsize=(20,5))\n",
        "\n",
        "q=260 #Posición dentro de los inputs, Carpeta_0 No Deslizamientos\n",
        "ax[0,0].imshow(inputs[q,:,:,0], cmap='gray')\n",
        "ax[0,0].set_title('Aspect')\n",
        "ax[0,1].imshow(inputs[q,:,:,1], cmap='gray')\n",
        "ax[0,1].set_title('C.N.B.Level')\n",
        "ax[0,2].imshow(inputs[q,:,:,2], cmap='gray')\n",
        "ax[0,2].set_title('C.N.Distance')\n",
        "ax[0,3].imshow(inputs[q,:,:,3], cmap='gray')\n",
        "ax[0,3].set_title('D. to faults')\n",
        "ax[0,4].imshow(inputs[q,:,:,4], cmap='gray')\n",
        "ax[0,4].set_title('D. to roads.')\n",
        "ax[0,5].imshow(inputs[q,:,:,5], cmap='gray')\n",
        "ax[0,5].set_title('Elevation')\n",
        "ax[0,6].imshow(inputs[q,:,:,6], cmap='gray')\n",
        "ax[0,6].set_title('Geology 1')\n",
        "ax[0,7].imshow(inputs[q,:,:,7], cmap='gray')\n",
        "ax[0,7].set_title('Geology 3')\n",
        "ax[0,8].imshow(inputs[q,:,:,8], cmap='gray')\n",
        "ax[0,8].set_title('Geology 4')\n",
        "ax[0,9].imshow(inputs[q,:,:,9], cmap='gray')\n",
        "ax[0,9].set_title('Geology 5')\n",
        "ax[1,0].imshow(inputs[q,:,:,10], cmap='gray')\n",
        "ax[1,0].set_title('LS-Factor')\n",
        "ax[1,1].imshow(inputs[q,:,:,11], cmap='gray')\n",
        "ax[1,1].set_title('P. Curvature')\n",
        "ax[1,2].imshow(inputs[q,:,:,12], cmap='gray')\n",
        "ax[1,2].set_title('P. Curvature')\n",
        "ax[1,3].imshow(inputs[q,:,:,13], cmap='gray')\n",
        "ax[1,3].set_title('R.S.Position')\n",
        "ax[1,4].imshow(inputs[q,:,:,14], cmap='gray')\n",
        "ax[1,4].set_title('Slope.')\n",
        "ax[1,5].imshow(inputs[q,:,:,15], cmap='gray')\n",
        "ax[1,5].set_title('TWI')\n",
        "ax[1,6].imshow(inputs[q,:,:,16], cmap='gray')\n",
        "ax[1,6].set_title('Vegetation 1')\n",
        "ax[1,7].imshow(inputs[q,:,:,17], cmap='gray')\n",
        "ax[1,7].set_title('Vegetation 2')\n",
        "ax[1,8].imshow(inputs[q,:,:,18], cmap='gray')\n",
        "ax[1,8].set_title('Vegetation 3')\n",
        "\n",
        "ax[1,9].imshow(inputs[q,:,:,18], cmap='gray')\n",
        "ax[1,9].set_title('No')\n",
        "\n",
        "fig.tight_layout()\n",
        "plt.show()"
      ],
      "metadata": {
        "colab": {
          "base_uri": "https://localhost:8080/",
          "height": 232
        },
        "id": "ZH9kqa9YtCyn",
        "outputId": "bb85d13c-3765-4fd8-9d8a-71666fc10a00"
      },
      "execution_count": null,
      "outputs": [
        {
          "output_type": "display_data",
          "data": {
            "text/plain": [
              "<Figure size 1440x360 with 20 Axes>"
            ],
            "image/png": "[encoded data removed]"
          },
          "metadata": {
            "needs_background": "light"
          }
        }
      ]
    },
    {
      "cell_type": "markdown",
      "source": [
        "#RED CONVOLUCIONAL"
      ],
      "metadata": {
        "id": "vCxBgurSe_wg"
      }
    },
    {
      "cell_type": "markdown",
      "source": [
        "##DEFINICIÓN DEL MODELO"
      ],
      "metadata": {
        "id": "bCJc5qC7fCNO"
      }
    },
    {
      "cell_type": "code",
      "execution_count": null,
      "metadata": {
        "colab": {
          "base_uri": "https://localhost:8080/",
          "height": 974
        },
        "id": "kGuKwooAZwTH",
        "outputId": "3b0634d8-0d29-4d45-c004-5c911e98cfb1"
      },
      "outputs": [
        {
          "output_type": "stream",
          "name": "stdout",
          "text": [
            "Model: \"sequential_13\"\n",
            "_________________________________________________________________\n",
            " Layer (type)                Output Shape              Param #   \n",
            "=================================================================\n",
            " First_CNN_Layer (Conv2D)    (None, 3, 3, 32)          5504      \n",
            "                                                                 \n",
            " Second_CNN_Layer (Conv2D)   (None, 1, 1, 64)          18496     \n",
            "                                                                 \n",
            " Flatten_layer (Flatten)     (None, 64)                0         \n",
            "                                                                 \n",
            " First_Dense_layer (Dense)   (None, 64)                4160      \n",
            "                                                                 \n",
            " Second_Dense_layer (Dense)  (None, 1)                 65        \n",
            "                                                                 \n",
            "=================================================================\n",
            "Total params: 28,225\n",
            "Trainable params: 28,225\n",
            "Non-trainable params: 0\n",
            "_________________________________________________________________\n"
          ]
        },
        {
          "output_type": "execute_result",
          "data": {
            "text/plain": [
              "<IPython.core.display.Image object>"
            ],
            "image/png": "[encoded data removed]"
          },
          "metadata": {},
          "execution_count": 123
        }
      ],
      "source": [
        "from tensorflow.keras import datasets, layers, models\n",
        "model = models.Sequential()\n",
        "model.add(layers.Conv2D(32, (3, 3), activation='relu', input_shape=(5, 5, 19), padding='valid', name=\"First_CNN_Layer\"))\n",
        "model.add(layers.Conv2D(64, (3, 3), activation='relu', padding='valid', name=\"Second_CNN_Layer\"))\n",
        "#model.add(layers.Conv2D(128, (1, 1), activation='relu', padding='valid', name=\"Third_CNN_Layer\"))\n",
        "model.add(layers.Flatten(name=\"Flatten_layer\")) \n",
        "model.add(layers.Dense(64, activation='relu', name=\"First_Dense_layer\"))\n",
        "model.add(layers.Dense(1, activation='sigmoid', name=\"Second_Dense_layer\"))\n",
        "\n",
        "model.summary()\n",
        "tf.keras.utils.plot_model(model, to_file='model_plot.png', show_shapes=True, show_layer_names=True)"
      ]
    },
    {
      "cell_type": "markdown",
      "source": [
        "##DATA TRAIN_TEST_SPLIT"
      ],
      "metadata": {
        "id": "6gOIceZ-fLLy"
      }
    },
    {
      "cell_type": "code",
      "source": [
        "#División 80% (entrenamiento)-20% (prueba)\n",
        "inputs_train, inputs_test, outputs_train, outputs_test = train_test_split(inputs, outputs, test_size = 0.2)"
      ],
      "metadata": {
        "id": "0y1tJ9tt0Da5"
      },
      "execution_count": null,
      "outputs": []
    },
    {
      "cell_type": "code",
      "source": [
        "#Estructura de la división\n",
        "print(f'La forma del input_train es: {inputs_train.shape}')\n",
        "print(f'La forma del input_test es: {inputs_test.shape}')\n",
        "print(f'La forma del outputs_train es: {outputs_train.shape}')\n",
        "print(f'La forma del outputs_test es: {outputs_test.shape}')\n"
      ],
      "metadata": {
        "colab": {
          "base_uri": "https://localhost:8080/"
        },
        "id": "l4jSsUdcv35R",
        "outputId": "6e7dc5e7-ecf8-4ece-b1ba-09621a2b1193"
      },
      "execution_count": null,
      "outputs": [
        {
          "output_type": "stream",
          "name": "stdout",
          "text": [
            "La forma del input_train es: (209, 5, 5, 19)\n",
            "La forma del input_test es: (53, 5, 5, 19)\n",
            "La forma del outputs_train es: (209, 1)\n",
            "La forma del outputs_test es: (53, 1)\n"
          ]
        }
      ]
    },
    {
      "cell_type": "markdown",
      "source": [
        "##COMPILACIÓN DEL MODELO"
      ],
      "metadata": {
        "id": "chsf2ndKflAi"
      }
    },
    {
      "cell_type": "code",
      "source": [
        "#Compilación del modelo\n",
        "model.compile(\n",
        "\tloss = tf.keras.losses.BinaryCrossentropy( from_logits = True ),\n",
        "\toptimizer = keras.optimizers.Adam(lr = .001),\n",
        "\tmetrics = ['accuracy']\n",
        "\t)"
      ],
      "metadata": {
        "colab": {
          "base_uri": "https://localhost:8080/"
        },
        "id": "o8yraMM84MQP",
        "outputId": "da76b707-9e21-49de-e9a3-43f0626f7359"
      },
      "execution_count": null,
      "outputs": [
        {
          "output_type": "stream",
          "name": "stderr",
          "text": [
            "/usr/local/lib/python3.7/dist-packages/keras/optimizer_v2/adam.py:105: UserWarning: The `lr` argument is deprecated, use `learning_rate` instead.\n",
            "  super(Adam, self).__init__(name, **kwargs)\n"
          ]
        }
      ]
    },
    {
      "cell_type": "code",
      "source": [
        "Wsave = model.get_weights()\n",
        "model.set_weights(Wsave)"
      ],
      "metadata": {
        "id": "6_-qYgi-fK2K"
      },
      "execution_count": null,
      "outputs": []
    },
    {
      "cell_type": "code",
      "source": [
        "#Reducción del valor de perdida y guardado del mejor modelo de entrenamiento\n",
        "reduce_lr = ReduceLROnPlateau(monitor='val_loss', factor=0.5, patience=3, min_lr=0.00001, mode='auto')\n",
        "checkpoint = ModelCheckpoint(\"best_model.h5\", monitor='val_accuracy', save_best_only=True, save_weights_only=False, mode='max', verbose=1)\n",
        "\n",
        "#Entrenamiento\n",
        "callbacks = [checkpoint, reduce_lr]\n",
        "hist = model.fit(inputs_train, outputs_train,\n",
        "                 validation_data = (inputs_test, outputs_test),\n",
        "                 batch_size = 32,\n",
        "                 epochs=100, callbacks=callbacks,\n",
        "                 verbose=1)"
      ],
      "metadata": {
        "id": "NcVm6wHl-peX",
        "colab": {
          "base_uri": "https://localhost:8080/"
        },
        "outputId": "550bd9d3-48ab-4a16-b314-1319652b5b57"
      },
      "execution_count": null,
      "outputs": [
        {
          "output_type": "stream",
          "name": "stdout",
          "text": [
            "Epoch 1/100\n"
          ]
        },
        {
          "output_type": "stream",
          "name": "stderr",
          "text": [
            "/usr/local/lib/python3.7/dist-packages/tensorflow/python/util/dispatch.py:1082: UserWarning: \"`binary_crossentropy` received `from_logits=True`, but the `output` argument was produced by a sigmoid or softmax activation and thus does not represent logits. Was this intended?\"\n",
            "  return dispatch_target(*args, **kwargs)\n"
          ]
        },
        {
          "output_type": "stream",
          "name": "stdout",
          "text": [
            "\r1/7 [===>..........................] - ETA: 3s - loss: 0.6672 - accuracy: 0.6250\n",
            "Epoch 1: val_accuracy improved from -inf to 0.66038, saving model to best_model.h5\n",
            "7/7 [==============================] - 1s 47ms/step - loss: 0.6486 - accuracy: 0.6603 - val_loss: 0.5991 - val_accuracy: 0.6604 - lr: 0.0010\n",
            "Epoch 2/100\n",
            "1/7 [===>..........................] - ETA: 0s - loss: 0.6033 - accuracy: 0.7188\n",
            "Epoch 2: val_accuracy improved from 0.66038 to 0.73585, saving model to best_model.h5\n",
            "7/7 [==============================] - 0s 16ms/step - loss: 0.5403 - accuracy: 0.7560 - val_loss: 0.4832 - val_accuracy: 0.7358 - lr: 0.0010\n",
            "Epoch 3/100\n",
            "1/7 [===>..........................] - ETA: 0s - loss: 0.5081 - accuracy: 0.7500\n",
            "Epoch 3: val_accuracy improved from 0.73585 to 0.96226, saving model to best_model.h5\n",
            "7/7 [==============================] - 0s 15ms/step - loss: 0.4220 - accuracy: 0.8182 - val_loss: 0.3151 - val_accuracy: 0.9623 - lr: 0.0010\n",
            "Epoch 4/100\n",
            "1/7 [===>..........................] - ETA: 0s - loss: 0.3407 - accuracy: 0.9375\n",
            "Epoch 4: val_accuracy did not improve from 0.96226\n",
            "7/7 [==============================] - 0s 13ms/step - loss: 0.3137 - accuracy: 0.8804 - val_loss: 0.2621 - val_accuracy: 0.9245 - lr: 0.0010\n",
            "Epoch 5/100\n",
            "7/7 [==============================] - ETA: 0s - loss: 0.2675 - accuracy: 0.8900\n",
            "Epoch 5: val_accuracy did not improve from 0.96226\n",
            "7/7 [==============================] - 0s 18ms/step - loss: 0.2675 - accuracy: 0.8900 - val_loss: 0.2106 - val_accuracy: 0.9434 - lr: 0.0010\n",
            "Epoch 6/100\n",
            "7/7 [==============================] - ETA: 0s - loss: 0.2231 - accuracy: 0.9187\n",
            "Epoch 6: val_accuracy did not improve from 0.96226\n",
            "7/7 [==============================] - 0s 22ms/step - loss: 0.2231 - accuracy: 0.9187 - val_loss: 0.1842 - val_accuracy: 0.9623 - lr: 0.0010\n",
            "Epoch 7/100\n",
            "6/7 [========================>.....] - ETA: 0s - loss: 0.2049 - accuracy: 0.9375\n",
            "Epoch 7: val_accuracy did not improve from 0.96226\n",
            "7/7 [==============================] - 0s 22ms/step - loss: 0.1954 - accuracy: 0.9378 - val_loss: 0.1793 - val_accuracy: 0.9623 - lr: 0.0010\n",
            "Epoch 8/100\n",
            "1/7 [===>..........................] - ETA: 0s - loss: 0.3870 - accuracy: 0.8438\n",
            "Epoch 8: val_accuracy did not improve from 0.96226\n",
            "7/7 [==============================] - 0s 16ms/step - loss: 0.1802 - accuracy: 0.9378 - val_loss: 0.1715 - val_accuracy: 0.9623 - lr: 0.0010\n",
            "Epoch 9/100\n",
            "7/7 [==============================] - ETA: 0s - loss: 0.1614 - accuracy: 0.9522\n",
            "Epoch 9: val_accuracy did not improve from 0.96226\n",
            "7/7 [==============================] - 0s 23ms/step - loss: 0.1614 - accuracy: 0.9522 - val_loss: 0.1628 - val_accuracy: 0.9623 - lr: 0.0010\n",
            "Epoch 10/100\n",
            "6/7 [========================>.....] - ETA: 0s - loss: 0.1368 - accuracy: 0.9635\n",
            "Epoch 10: val_accuracy did not improve from 0.96226\n",
            "7/7 [==============================] - 0s 20ms/step - loss: 0.1545 - accuracy: 0.9522 - val_loss: 0.1589 - val_accuracy: 0.9623 - lr: 0.0010\n",
            "Epoch 11/100\n",
            "1/7 [===>..........................] - ETA: 0s - loss: 0.1225 - accuracy: 0.9375\n",
            "Epoch 11: val_accuracy did not improve from 0.96226\n",
            "7/7 [==============================] - 0s 21ms/step - loss: 0.1474 - accuracy: 0.9522 - val_loss: 0.1493 - val_accuracy: 0.9623 - lr: 0.0010\n",
            "Epoch 12/100\n",
            "5/7 [====================>.........] - ETA: 0s - loss: 0.1822 - accuracy: 0.9312\n",
            "Epoch 12: val_accuracy did not improve from 0.96226\n",
            "7/7 [==============================] - 0s 25ms/step - loss: 0.1563 - accuracy: 0.9426 - val_loss: 0.1555 - val_accuracy: 0.9623 - lr: 0.0010\n",
            "Epoch 13/100\n",
            "1/7 [===>..........................] - ETA: 0s - loss: 0.1849 - accuracy: 0.9375\n",
            "Epoch 13: val_accuracy did not improve from 0.96226\n",
            "7/7 [==============================] - 0s 11ms/step - loss: 0.1424 - accuracy: 0.9569 - val_loss: 0.1415 - val_accuracy: 0.9623 - lr: 0.0010\n",
            "Epoch 14/100\n",
            "1/7 [===>..........................] - ETA: 0s - loss: 0.0550 - accuracy: 1.0000\n",
            "Epoch 14: val_accuracy did not improve from 0.96226\n",
            "7/7 [==============================] - 0s 13ms/step - loss: 0.1248 - accuracy: 0.9522 - val_loss: 0.1528 - val_accuracy: 0.9623 - lr: 0.0010\n",
            "Epoch 15/100\n",
            "1/7 [===>..........................] - ETA: 0s - loss: 0.1514 - accuracy: 0.9375\n",
            "Epoch 15: val_accuracy did not improve from 0.96226\n",
            "7/7 [==============================] - 0s 10ms/step - loss: 0.1428 - accuracy: 0.9522 - val_loss: 0.1336 - val_accuracy: 0.9623 - lr: 0.0010\n",
            "Epoch 16/100\n",
            "1/7 [===>..........................] - ETA: 0s - loss: 0.1320 - accuracy: 0.9688\n",
            "Epoch 16: val_accuracy did not improve from 0.96226\n",
            "7/7 [==============================] - 0s 10ms/step - loss: 0.1348 - accuracy: 0.9522 - val_loss: 0.1413 - val_accuracy: 0.9623 - lr: 0.0010\n",
            "Epoch 17/100\n",
            "1/7 [===>..........................] - ETA: 0s - loss: 0.0620 - accuracy: 0.9688\n",
            "Epoch 17: val_accuracy did not improve from 0.96226\n",
            "7/7 [==============================] - 0s 10ms/step - loss: 0.1278 - accuracy: 0.9522 - val_loss: 0.1311 - val_accuracy: 0.9623 - lr: 0.0010\n",
            "Epoch 18/100\n",
            "1/7 [===>..........................] - ETA: 0s - loss: 0.0690 - accuracy: 1.0000\n",
            "Epoch 18: val_accuracy did not improve from 0.96226\n",
            "7/7 [==============================] - 0s 11ms/step - loss: 0.1237 - accuracy: 0.9474 - val_loss: 0.1281 - val_accuracy: 0.9623 - lr: 0.0010\n",
            "Epoch 19/100\n",
            "1/7 [===>..........................] - ETA: 0s - loss: 0.2095 - accuracy: 0.9375\n",
            "Epoch 19: val_accuracy did not improve from 0.96226\n",
            "7/7 [==============================] - 0s 11ms/step - loss: 0.1110 - accuracy: 0.9617 - val_loss: 0.1257 - val_accuracy: 0.9623 - lr: 0.0010\n",
            "Epoch 20/100\n",
            "1/7 [===>..........................] - ETA: 0s - loss: 0.0711 - accuracy: 1.0000\n",
            "Epoch 20: val_accuracy did not improve from 0.96226\n",
            "7/7 [==============================] - 0s 10ms/step - loss: 0.1064 - accuracy: 0.9665 - val_loss: 0.1232 - val_accuracy: 0.9623 - lr: 0.0010\n",
            "Epoch 21/100\n",
            "1/7 [===>..........................] - ETA: 0s - loss: 0.1109 - accuracy: 0.9688\n",
            "Epoch 21: val_accuracy did not improve from 0.96226\n",
            "7/7 [==============================] - 0s 10ms/step - loss: 0.1016 - accuracy: 0.9665 - val_loss: 0.1250 - val_accuracy: 0.9623 - lr: 0.0010\n",
            "Epoch 22/100\n",
            "1/7 [===>..........................] - ETA: 0s - loss: 0.1442 - accuracy: 0.9375\n",
            "Epoch 22: val_accuracy did not improve from 0.96226\n",
            "7/7 [==============================] - 0s 10ms/step - loss: 0.1008 - accuracy: 0.9617 - val_loss: 0.1277 - val_accuracy: 0.9623 - lr: 0.0010\n",
            "Epoch 23/100\n",
            "1/7 [===>..........................] - ETA: 0s - loss: 0.1528 - accuracy: 0.9375\n",
            "Epoch 23: val_accuracy did not improve from 0.96226\n",
            "7/7 [==============================] - 0s 10ms/step - loss: 0.0960 - accuracy: 0.9665 - val_loss: 0.1204 - val_accuracy: 0.9623 - lr: 0.0010\n",
            "Epoch 24/100\n",
            "1/7 [===>..........................] - ETA: 0s - loss: 0.0601 - accuracy: 0.9688\n",
            "Epoch 24: val_accuracy did not improve from 0.96226\n",
            "7/7 [==============================] - 0s 11ms/step - loss: 0.0973 - accuracy: 0.9617 - val_loss: 0.1223 - val_accuracy: 0.9623 - lr: 0.0010\n",
            "Epoch 25/100\n",
            "1/7 [===>..........................] - ETA: 0s - loss: 0.2028 - accuracy: 0.9062\n",
            "Epoch 25: val_accuracy did not improve from 0.96226\n",
            "7/7 [==============================] - 0s 9ms/step - loss: 0.0932 - accuracy: 0.9569 - val_loss: 0.1072 - val_accuracy: 0.9623 - lr: 0.0010\n",
            "Epoch 26/100\n",
            "1/7 [===>..........................] - ETA: 0s - loss: 0.1006 - accuracy: 0.9688\n",
            "Epoch 26: val_accuracy did not improve from 0.96226\n",
            "7/7 [==============================] - 0s 12ms/step - loss: 0.0870 - accuracy: 0.9665 - val_loss: 0.1068 - val_accuracy: 0.9623 - lr: 0.0010\n",
            "Epoch 27/100\n",
            "1/7 [===>..........................] - ETA: 0s - loss: 0.0763 - accuracy: 0.9375\n",
            "Epoch 27: val_accuracy did not improve from 0.96226\n",
            "7/7 [==============================] - 0s 12ms/step - loss: 0.0912 - accuracy: 0.9617 - val_loss: 0.1155 - val_accuracy: 0.9623 - lr: 0.0010\n",
            "Epoch 28/100\n",
            "1/7 [===>..........................] - ETA: 0s - loss: 0.0742 - accuracy: 0.9688\n",
            "Epoch 28: val_accuracy did not improve from 0.96226\n",
            "7/7 [==============================] - 0s 10ms/step - loss: 0.0893 - accuracy: 0.9569 - val_loss: 0.1061 - val_accuracy: 0.9623 - lr: 0.0010\n",
            "Epoch 29/100\n",
            "1/7 [===>..........................] - ETA: 0s - loss: 0.1304 - accuracy: 0.9062\n",
            "Epoch 29: val_accuracy did not improve from 0.96226\n",
            "7/7 [==============================] - 0s 10ms/step - loss: 0.0743 - accuracy: 0.9665 - val_loss: 0.1076 - val_accuracy: 0.9623 - lr: 0.0010\n",
            "Epoch 30/100\n",
            "1/7 [===>..........................] - ETA: 0s - loss: 0.0493 - accuracy: 1.0000\n",
            "Epoch 30: val_accuracy did not improve from 0.96226\n",
            "7/7 [==============================] - 0s 10ms/step - loss: 0.0715 - accuracy: 0.9713 - val_loss: 0.1348 - val_accuracy: 0.9245 - lr: 0.0010\n",
            "Epoch 31/100\n",
            "1/7 [===>..........................] - ETA: 0s - loss: 0.0999 - accuracy: 0.9688\n",
            "Epoch 31: val_accuracy did not improve from 0.96226\n",
            "7/7 [==============================] - 0s 10ms/step - loss: 0.0781 - accuracy: 0.9761 - val_loss: 0.1039 - val_accuracy: 0.9623 - lr: 0.0010\n",
            "Epoch 32/100\n",
            "1/7 [===>..........................] - ETA: 0s - loss: 0.1637 - accuracy: 0.9375\n",
            "Epoch 32: val_accuracy did not improve from 0.96226\n",
            "7/7 [==============================] - 0s 10ms/step - loss: 0.0898 - accuracy: 0.9665 - val_loss: 0.0858 - val_accuracy: 0.9623 - lr: 0.0010\n",
            "Epoch 33/100\n",
            "1/7 [===>..........................] - ETA: 0s - loss: 0.0407 - accuracy: 1.0000\n",
            "Epoch 33: val_accuracy did not improve from 0.96226\n",
            "7/7 [==============================] - 0s 9ms/step - loss: 0.0738 - accuracy: 0.9713 - val_loss: 0.1187 - val_accuracy: 0.9434 - lr: 0.0010\n",
            "Epoch 34/100\n",
            "1/7 [===>..........................] - ETA: 0s - loss: 0.0883 - accuracy: 0.9688\n",
            "Epoch 34: val_accuracy did not improve from 0.96226\n",
            "7/7 [==============================] - 0s 11ms/step - loss: 0.0767 - accuracy: 0.9713 - val_loss: 0.1146 - val_accuracy: 0.9434 - lr: 0.0010\n",
            "Epoch 35/100\n",
            "1/7 [===>..........................] - ETA: 0s - loss: 0.0457 - accuracy: 0.9688\n",
            "Epoch 35: val_accuracy did not improve from 0.96226\n",
            "7/7 [==============================] - 0s 10ms/step - loss: 0.0690 - accuracy: 0.9761 - val_loss: 0.0862 - val_accuracy: 0.9623 - lr: 0.0010\n",
            "Epoch 36/100\n",
            "1/7 [===>..........................] - ETA: 0s - loss: 0.1071 - accuracy: 0.9062\n",
            "Epoch 36: val_accuracy did not improve from 0.96226\n",
            "7/7 [==============================] - 0s 12ms/step - loss: 0.0613 - accuracy: 0.9713 - val_loss: 0.1039 - val_accuracy: 0.9623 - lr: 5.0000e-04\n",
            "Epoch 37/100\n",
            "1/7 [===>..........................] - ETA: 0s - loss: 0.1148 - accuracy: 0.9062\n",
            "Epoch 37: val_accuracy did not improve from 0.96226\n",
            "7/7 [==============================] - 0s 9ms/step - loss: 0.0580 - accuracy: 0.9713 - val_loss: 0.1051 - val_accuracy: 0.9434 - lr: 5.0000e-04\n",
            "Epoch 38/100\n",
            "1/7 [===>..........................] - ETA: 0s - loss: 0.0242 - accuracy: 1.0000\n",
            "Epoch 38: val_accuracy did not improve from 0.96226\n",
            "7/7 [==============================] - 0s 11ms/step - loss: 0.0550 - accuracy: 0.9809 - val_loss: 0.0956 - val_accuracy: 0.9623 - lr: 5.0000e-04\n",
            "Epoch 39/100\n",
            "1/7 [===>..........................] - ETA: 0s - loss: 0.0833 - accuracy: 0.9375\n",
            "Epoch 39: val_accuracy improved from 0.96226 to 0.98113, saving model to best_model.h5\n",
            "7/7 [==============================] - 0s 15ms/step - loss: 0.0459 - accuracy: 0.9809 - val_loss: 0.0889 - val_accuracy: 0.9811 - lr: 2.5000e-04\n",
            "Epoch 40/100\n",
            "1/7 [===>..........................] - ETA: 0s - loss: 0.0112 - accuracy: 1.0000\n",
            "Epoch 40: val_accuracy did not improve from 0.98113\n",
            "7/7 [==============================] - 0s 10ms/step - loss: 0.0498 - accuracy: 0.9809 - val_loss: 0.0871 - val_accuracy: 0.9811 - lr: 2.5000e-04\n",
            "Epoch 41/100\n",
            "1/7 [===>..........................] - ETA: 0s - loss: 0.1055 - accuracy: 0.9688\n",
            "Epoch 41: val_accuracy did not improve from 0.98113\n",
            "7/7 [==============================] - 0s 10ms/step - loss: 0.0522 - accuracy: 0.9904 - val_loss: 0.1417 - val_accuracy: 0.9434 - lr: 2.5000e-04\n",
            "Epoch 42/100\n",
            "1/7 [===>..........................] - ETA: 0s - loss: 0.1218 - accuracy: 0.9062\n",
            "Epoch 42: val_accuracy did not improve from 0.98113\n",
            "7/7 [==============================] - 0s 10ms/step - loss: 0.0520 - accuracy: 0.9856 - val_loss: 0.1063 - val_accuracy: 0.9623 - lr: 1.2500e-04\n",
            "Epoch 43/100\n",
            "1/7 [===>..........................] - ETA: 0s - loss: 0.0534 - accuracy: 1.0000\n",
            "Epoch 43: val_accuracy did not improve from 0.98113\n",
            "7/7 [==============================] - 0s 10ms/step - loss: 0.0428 - accuracy: 0.9904 - val_loss: 0.0915 - val_accuracy: 0.9623 - lr: 1.2500e-04\n",
            "Epoch 44/100\n",
            "1/7 [===>..........................] - ETA: 0s - loss: 0.0163 - accuracy: 1.0000\n",
            "Epoch 44: val_accuracy did not improve from 0.98113\n",
            "7/7 [==============================] - 0s 11ms/step - loss: 0.0436 - accuracy: 0.9809 - val_loss: 0.0930 - val_accuracy: 0.9623 - lr: 1.2500e-04\n",
            "Epoch 45/100\n",
            "1/7 [===>..........................] - ETA: 0s - loss: 0.0412 - accuracy: 0.9688\n",
            "Epoch 45: val_accuracy did not improve from 0.98113\n",
            "7/7 [==============================] - 0s 10ms/step - loss: 0.0425 - accuracy: 0.9809 - val_loss: 0.0951 - val_accuracy: 0.9623 - lr: 6.2500e-05\n",
            "Epoch 46/100\n",
            "1/7 [===>..........................] - ETA: 0s - loss: 0.0228 - accuracy: 1.0000\n",
            "Epoch 46: val_accuracy did not improve from 0.98113\n",
            "7/7 [==============================] - 0s 10ms/step - loss: 0.0418 - accuracy: 0.9809 - val_loss: 0.0972 - val_accuracy: 0.9623 - lr: 6.2500e-05\n",
            "Epoch 47/100\n",
            "1/7 [===>..........................] - ETA: 0s - loss: 0.0428 - accuracy: 0.9688\n",
            "Epoch 47: val_accuracy did not improve from 0.98113\n",
            "7/7 [==============================] - 0s 11ms/step - loss: 0.0413 - accuracy: 0.9809 - val_loss: 0.0979 - val_accuracy: 0.9623 - lr: 6.2500e-05\n",
            "Epoch 48/100\n",
            "1/7 [===>..........................] - ETA: 0s - loss: 0.0794 - accuracy: 0.9375\n",
            "Epoch 48: val_accuracy did not improve from 0.98113\n",
            "7/7 [==============================] - 0s 11ms/step - loss: 0.0409 - accuracy: 0.9809 - val_loss: 0.0987 - val_accuracy: 0.9623 - lr: 3.1250e-05\n",
            "Epoch 49/100\n",
            "1/7 [===>..........................] - ETA: 0s - loss: 0.0538 - accuracy: 0.9688\n",
            "Epoch 49: val_accuracy did not improve from 0.98113\n",
            "7/7 [==============================] - 0s 10ms/step - loss: 0.0406 - accuracy: 0.9809 - val_loss: 0.0983 - val_accuracy: 0.9623 - lr: 3.1250e-05\n",
            "Epoch 50/100\n",
            "1/7 [===>..........................] - ETA: 0s - loss: 0.0360 - accuracy: 0.9688\n",
            "Epoch 50: val_accuracy did not improve from 0.98113\n",
            "7/7 [==============================] - 0s 11ms/step - loss: 0.0404 - accuracy: 0.9809 - val_loss: 0.0970 - val_accuracy: 0.9623 - lr: 3.1250e-05\n",
            "Epoch 51/100\n",
            "1/7 [===>..........................] - ETA: 0s - loss: 0.0370 - accuracy: 0.9688\n",
            "Epoch 51: val_accuracy did not improve from 0.98113\n",
            "7/7 [==============================] - 0s 10ms/step - loss: 0.0404 - accuracy: 0.9809 - val_loss: 0.0965 - val_accuracy: 0.9623 - lr: 1.5625e-05\n",
            "Epoch 52/100\n",
            "1/7 [===>..........................] - ETA: 0s - loss: 0.0146 - accuracy: 1.0000\n",
            "Epoch 52: val_accuracy did not improve from 0.98113\n",
            "7/7 [==============================] - 0s 10ms/step - loss: 0.0403 - accuracy: 0.9809 - val_loss: 0.0965 - val_accuracy: 0.9623 - lr: 1.5625e-05\n",
            "Epoch 53/100\n",
            "1/7 [===>..........................] - ETA: 0s - loss: 0.0191 - accuracy: 1.0000\n",
            "Epoch 53: val_accuracy did not improve from 0.98113\n",
            "7/7 [==============================] - 0s 13ms/step - loss: 0.0403 - accuracy: 0.9809 - val_loss: 0.0961 - val_accuracy: 0.9623 - lr: 1.5625e-05\n",
            "Epoch 54/100\n",
            "1/7 [===>..........................] - ETA: 0s - loss: 0.0337 - accuracy: 0.9688\n",
            "Epoch 54: val_accuracy did not improve from 0.98113\n",
            "7/7 [==============================] - 0s 10ms/step - loss: 0.0402 - accuracy: 0.9809 - val_loss: 0.0964 - val_accuracy: 0.9623 - lr: 1.0000e-05\n",
            "Epoch 55/100\n",
            "1/7 [===>..........................] - ETA: 0s - loss: 0.0151 - accuracy: 1.0000\n",
            "Epoch 55: val_accuracy did not improve from 0.98113\n",
            "7/7 [==============================] - 0s 10ms/step - loss: 0.0401 - accuracy: 0.9809 - val_loss: 0.0970 - val_accuracy: 0.9623 - lr: 1.0000e-05\n",
            "Epoch 56/100\n",
            "1/7 [===>..........................] - ETA: 0s - loss: 0.0245 - accuracy: 1.0000\n",
            "Epoch 56: val_accuracy did not improve from 0.98113\n",
            "7/7 [==============================] - 0s 10ms/step - loss: 0.0401 - accuracy: 0.9809 - val_loss: 0.0971 - val_accuracy: 0.9623 - lr: 1.0000e-05\n",
            "Epoch 57/100\n",
            "1/7 [===>..........................] - ETA: 0s - loss: 0.0139 - accuracy: 1.0000\n",
            "Epoch 57: val_accuracy did not improve from 0.98113\n",
            "7/7 [==============================] - 0s 11ms/step - loss: 0.0400 - accuracy: 0.9809 - val_loss: 0.0970 - val_accuracy: 0.9623 - lr: 1.0000e-05\n",
            "Epoch 58/100\n",
            "1/7 [===>..........................] - ETA: 0s - loss: 0.0185 - accuracy: 1.0000\n",
            "Epoch 58: val_accuracy did not improve from 0.98113\n",
            "7/7 [==============================] - 0s 11ms/step - loss: 0.0400 - accuracy: 0.9809 - val_loss: 0.0970 - val_accuracy: 0.9623 - lr: 1.0000e-05\n",
            "Epoch 59/100\n",
            "1/7 [===>..........................] - ETA: 0s - loss: 0.0179 - accuracy: 1.0000\n",
            "Epoch 59: val_accuracy did not improve from 0.98113\n",
            "7/7 [==============================] - 0s 11ms/step - loss: 0.0400 - accuracy: 0.9809 - val_loss: 0.0968 - val_accuracy: 0.9623 - lr: 1.0000e-05\n",
            "Epoch 60/100\n",
            "1/7 [===>..........................] - ETA: 0s - loss: 0.0763 - accuracy: 0.9375\n",
            "Epoch 60: val_accuracy did not improve from 0.98113\n",
            "7/7 [==============================] - 0s 10ms/step - loss: 0.0400 - accuracy: 0.9809 - val_loss: 0.0972 - val_accuracy: 0.9623 - lr: 1.0000e-05\n",
            "Epoch 61/100\n",
            "1/7 [===>..........................] - ETA: 0s - loss: 0.0314 - accuracy: 1.0000\n",
            "Epoch 61: val_accuracy did not improve from 0.98113\n",
            "7/7 [==============================] - 0s 11ms/step - loss: 0.0399 - accuracy: 0.9809 - val_loss: 0.0969 - val_accuracy: 0.9623 - lr: 1.0000e-05\n",
            "Epoch 62/100\n",
            "1/7 [===>..........................] - ETA: 0s - loss: 0.0924 - accuracy: 0.9375\n",
            "Epoch 62: val_accuracy did not improve from 0.98113\n",
            "7/7 [==============================] - 0s 10ms/step - loss: 0.0399 - accuracy: 0.9809 - val_loss: 0.0968 - val_accuracy: 0.9623 - lr: 1.0000e-05\n",
            "Epoch 63/100\n",
            "1/7 [===>..........................] - ETA: 0s - loss: 0.0264 - accuracy: 1.0000\n",
            "Epoch 63: val_accuracy did not improve from 0.98113\n",
            "7/7 [==============================] - 0s 12ms/step - loss: 0.0398 - accuracy: 0.9809 - val_loss: 0.0962 - val_accuracy: 0.9623 - lr: 1.0000e-05\n",
            "Epoch 64/100\n",
            "1/7 [===>..........................] - ETA: 0s - loss: 0.0149 - accuracy: 1.0000\n",
            "Epoch 64: val_accuracy did not improve from 0.98113\n",
            "7/7 [==============================] - 0s 10ms/step - loss: 0.0398 - accuracy: 0.9809 - val_loss: 0.0965 - val_accuracy: 0.9623 - lr: 1.0000e-05\n",
            "Epoch 65/100\n",
            "1/7 [===>..........................] - ETA: 0s - loss: 0.0516 - accuracy: 0.9688\n",
            "Epoch 65: val_accuracy did not improve from 0.98113\n",
            "7/7 [==============================] - 0s 12ms/step - loss: 0.0398 - accuracy: 0.9809 - val_loss: 0.0963 - val_accuracy: 0.9623 - lr: 1.0000e-05\n",
            "Epoch 66/100\n",
            "1/7 [===>..........................] - ETA: 0s - loss: 0.0400 - accuracy: 1.0000\n",
            "Epoch 66: val_accuracy did not improve from 0.98113\n",
            "7/7 [==============================] - 0s 10ms/step - loss: 0.0397 - accuracy: 0.9809 - val_loss: 0.0960 - val_accuracy: 0.9623 - lr: 1.0000e-05\n",
            "Epoch 67/100\n",
            "1/7 [===>..........................] - ETA: 0s - loss: 0.0952 - accuracy: 0.9375\n",
            "Epoch 67: val_accuracy did not improve from 0.98113\n",
            "7/7 [==============================] - 0s 11ms/step - loss: 0.0397 - accuracy: 0.9809 - val_loss: 0.0959 - val_accuracy: 0.9623 - lr: 1.0000e-05\n",
            "Epoch 68/100\n",
            "1/7 [===>..........................] - ETA: 0s - loss: 0.0367 - accuracy: 0.9688\n",
            "Epoch 68: val_accuracy did not improve from 0.98113\n",
            "7/7 [==============================] - 0s 10ms/step - loss: 0.0397 - accuracy: 0.9809 - val_loss: 0.0957 - val_accuracy: 0.9623 - lr: 1.0000e-05\n",
            "Epoch 69/100\n",
            "1/7 [===>..........................] - ETA: 0s - loss: 0.0718 - accuracy: 0.9375\n",
            "Epoch 69: val_accuracy did not improve from 0.98113\n",
            "7/7 [==============================] - 0s 11ms/step - loss: 0.0397 - accuracy: 0.9809 - val_loss: 0.0960 - val_accuracy: 0.9623 - lr: 1.0000e-05\n",
            "Epoch 70/100\n",
            "1/7 [===>..........................] - ETA: 0s - loss: 0.0477 - accuracy: 0.9688\n",
            "Epoch 70: val_accuracy did not improve from 0.98113\n",
            "7/7 [==============================] - 0s 11ms/step - loss: 0.0396 - accuracy: 0.9809 - val_loss: 0.0959 - val_accuracy: 0.9623 - lr: 1.0000e-05\n",
            "Epoch 71/100\n",
            "1/7 [===>..........................] - ETA: 0s - loss: 0.0230 - accuracy: 1.0000\n",
            "Epoch 71: val_accuracy did not improve from 0.98113\n",
            "7/7 [==============================] - 0s 10ms/step - loss: 0.0395 - accuracy: 0.9809 - val_loss: 0.0959 - val_accuracy: 0.9623 - lr: 1.0000e-05\n",
            "Epoch 72/100\n",
            "1/7 [===>..........................] - ETA: 0s - loss: 0.0078 - accuracy: 1.0000\n",
            "Epoch 72: val_accuracy did not improve from 0.98113\n",
            "7/7 [==============================] - 0s 11ms/step - loss: 0.0395 - accuracy: 0.9809 - val_loss: 0.0961 - val_accuracy: 0.9623 - lr: 1.0000e-05\n",
            "Epoch 73/100\n",
            "1/7 [===>..........................] - ETA: 0s - loss: 0.0263 - accuracy: 1.0000\n",
            "Epoch 73: val_accuracy did not improve from 0.98113\n",
            "7/7 [==============================] - 0s 10ms/step - loss: 0.0395 - accuracy: 0.9809 - val_loss: 0.0966 - val_accuracy: 0.9623 - lr: 1.0000e-05\n",
            "Epoch 74/100\n",
            "1/7 [===>..........................] - ETA: 0s - loss: 0.0066 - accuracy: 1.0000\n",
            "Epoch 74: val_accuracy did not improve from 0.98113\n",
            "7/7 [==============================] - 0s 11ms/step - loss: 0.0394 - accuracy: 0.9809 - val_loss: 0.0967 - val_accuracy: 0.9623 - lr: 1.0000e-05\n",
            "Epoch 75/100\n",
            "1/7 [===>..........................] - ETA: 0s - loss: 0.0215 - accuracy: 1.0000\n",
            "Epoch 75: val_accuracy did not improve from 0.98113\n",
            "7/7 [==============================] - 0s 11ms/step - loss: 0.0394 - accuracy: 0.9809 - val_loss: 0.0962 - val_accuracy: 0.9623 - lr: 1.0000e-05\n",
            "Epoch 76/100\n",
            "1/7 [===>..........................] - ETA: 0s - loss: 0.0281 - accuracy: 1.0000\n",
            "Epoch 76: val_accuracy did not improve from 0.98113\n",
            "7/7 [==============================] - 0s 11ms/step - loss: 0.0394 - accuracy: 0.9809 - val_loss: 0.0961 - val_accuracy: 0.9623 - lr: 1.0000e-05\n",
            "Epoch 77/100\n",
            "1/7 [===>..........................] - ETA: 0s - loss: 0.0181 - accuracy: 1.0000\n",
            "Epoch 77: val_accuracy did not improve from 0.98113\n",
            "7/7 [==============================] - 0s 10ms/step - loss: 0.0393 - accuracy: 0.9809 - val_loss: 0.0957 - val_accuracy: 0.9623 - lr: 1.0000e-05\n",
            "Epoch 78/100\n",
            "1/7 [===>..........................] - ETA: 0s - loss: 0.0391 - accuracy: 1.0000\n",
            "Epoch 78: val_accuracy did not improve from 0.98113\n",
            "7/7 [==============================] - 0s 11ms/step - loss: 0.0393 - accuracy: 0.9809 - val_loss: 0.0956 - val_accuracy: 0.9623 - lr: 1.0000e-05\n",
            "Epoch 79/100\n",
            "1/7 [===>..........................] - ETA: 0s - loss: 0.0153 - accuracy: 1.0000\n",
            "Epoch 79: val_accuracy did not improve from 0.98113\n",
            "7/7 [==============================] - 0s 11ms/step - loss: 0.0393 - accuracy: 0.9809 - val_loss: 0.0955 - val_accuracy: 0.9623 - lr: 1.0000e-05\n",
            "Epoch 80/100\n",
            "1/7 [===>..........................] - ETA: 0s - loss: 0.0960 - accuracy: 0.9375\n",
            "Epoch 80: val_accuracy did not improve from 0.98113\n",
            "7/7 [==============================] - 0s 12ms/step - loss: 0.0393 - accuracy: 0.9809 - val_loss: 0.0958 - val_accuracy: 0.9623 - lr: 1.0000e-05\n",
            "Epoch 81/100\n",
            "1/7 [===>..........................] - ETA: 0s - loss: 0.0185 - accuracy: 1.0000\n",
            "Epoch 81: val_accuracy did not improve from 0.98113\n",
            "7/7 [==============================] - 0s 10ms/step - loss: 0.0393 - accuracy: 0.9809 - val_loss: 0.0958 - val_accuracy: 0.9623 - lr: 1.0000e-05\n",
            "Epoch 82/100\n",
            "1/7 [===>..........................] - ETA: 0s - loss: 0.0397 - accuracy: 1.0000\n",
            "Epoch 82: val_accuracy did not improve from 0.98113\n",
            "7/7 [==============================] - 0s 11ms/step - loss: 0.0392 - accuracy: 0.9809 - val_loss: 0.0952 - val_accuracy: 0.9623 - lr: 1.0000e-05\n",
            "Epoch 83/100\n",
            "1/7 [===>..........................] - ETA: 0s - loss: 0.0470 - accuracy: 0.9688\n",
            "Epoch 83: val_accuracy did not improve from 0.98113\n",
            "7/7 [==============================] - 0s 10ms/step - loss: 0.0391 - accuracy: 0.9809 - val_loss: 0.0953 - val_accuracy: 0.9623 - lr: 1.0000e-05\n",
            "Epoch 84/100\n",
            "1/7 [===>..........................] - ETA: 0s - loss: 0.0240 - accuracy: 1.0000\n",
            "Epoch 84: val_accuracy did not improve from 0.98113\n",
            "7/7 [==============================] - 0s 10ms/step - loss: 0.0391 - accuracy: 0.9809 - val_loss: 0.0955 - val_accuracy: 0.9623 - lr: 1.0000e-05\n",
            "Epoch 85/100\n",
            "1/7 [===>..........................] - ETA: 0s - loss: 0.0120 - accuracy: 1.0000\n",
            "Epoch 85: val_accuracy did not improve from 0.98113\n",
            "7/7 [==============================] - 0s 10ms/step - loss: 0.0391 - accuracy: 0.9809 - val_loss: 0.0952 - val_accuracy: 0.9623 - lr: 1.0000e-05\n",
            "Epoch 86/100\n",
            "1/7 [===>..........................] - ETA: 0s - loss: 0.0175 - accuracy: 1.0000\n",
            "Epoch 86: val_accuracy did not improve from 0.98113\n",
            "7/7 [==============================] - 0s 10ms/step - loss: 0.0390 - accuracy: 0.9809 - val_loss: 0.0950 - val_accuracy: 0.9623 - lr: 1.0000e-05\n",
            "Epoch 87/100\n",
            "1/7 [===>..........................] - ETA: 0s - loss: 0.0496 - accuracy: 0.9688\n",
            "Epoch 87: val_accuracy did not improve from 0.98113\n",
            "7/7 [==============================] - 0s 10ms/step - loss: 0.0391 - accuracy: 0.9809 - val_loss: 0.0946 - val_accuracy: 0.9623 - lr: 1.0000e-05\n",
            "Epoch 88/100\n",
            "1/7 [===>..........................] - ETA: 0s - loss: 0.0418 - accuracy: 0.9688\n",
            "Epoch 88: val_accuracy did not improve from 0.98113\n",
            "7/7 [==============================] - 0s 10ms/step - loss: 0.0389 - accuracy: 0.9809 - val_loss: 0.0946 - val_accuracy: 0.9623 - lr: 1.0000e-05\n",
            "Epoch 89/100\n",
            "1/7 [===>..........................] - ETA: 0s - loss: 0.0328 - accuracy: 1.0000\n",
            "Epoch 89: val_accuracy did not improve from 0.98113\n",
            "7/7 [==============================] - 0s 10ms/step - loss: 0.0389 - accuracy: 0.9809 - val_loss: 0.0945 - val_accuracy: 0.9623 - lr: 1.0000e-05\n",
            "Epoch 90/100\n",
            "1/7 [===>..........................] - ETA: 0s - loss: 0.0194 - accuracy: 1.0000\n",
            "Epoch 90: val_accuracy did not improve from 0.98113\n",
            "7/7 [==============================] - 0s 14ms/step - loss: 0.0389 - accuracy: 0.9809 - val_loss: 0.0944 - val_accuracy: 0.9623 - lr: 1.0000e-05\n",
            "Epoch 91/100\n",
            "1/7 [===>..........................] - ETA: 0s - loss: 0.0347 - accuracy: 0.9688\n",
            "Epoch 91: val_accuracy did not improve from 0.98113\n",
            "7/7 [==============================] - 0s 10ms/step - loss: 0.0389 - accuracy: 0.9809 - val_loss: 0.0946 - val_accuracy: 0.9623 - lr: 1.0000e-05\n",
            "Epoch 92/100\n",
            "1/7 [===>..........................] - ETA: 0s - loss: 0.0108 - accuracy: 1.0000\n",
            "Epoch 92: val_accuracy did not improve from 0.98113\n",
            "7/7 [==============================] - 0s 11ms/step - loss: 0.0389 - accuracy: 0.9809 - val_loss: 0.0944 - val_accuracy: 0.9623 - lr: 1.0000e-05\n",
            "Epoch 93/100\n",
            "1/7 [===>..........................] - ETA: 0s - loss: 0.0483 - accuracy: 0.9688\n",
            "Epoch 93: val_accuracy did not improve from 0.98113\n",
            "7/7 [==============================] - 0s 11ms/step - loss: 0.0388 - accuracy: 0.9809 - val_loss: 0.0942 - val_accuracy: 0.9623 - lr: 1.0000e-05\n",
            "Epoch 94/100\n",
            "1/7 [===>..........................] - ETA: 0s - loss: 0.0231 - accuracy: 1.0000\n",
            "Epoch 94: val_accuracy did not improve from 0.98113\n",
            "7/7 [==============================] - 0s 11ms/step - loss: 0.0388 - accuracy: 0.9809 - val_loss: 0.0945 - val_accuracy: 0.9623 - lr: 1.0000e-05\n",
            "Epoch 95/100\n",
            "1/7 [===>..........................] - ETA: 0s - loss: 0.0175 - accuracy: 1.0000\n",
            "Epoch 95: val_accuracy did not improve from 0.98113\n",
            "7/7 [==============================] - 0s 10ms/step - loss: 0.0387 - accuracy: 0.9809 - val_loss: 0.0945 - val_accuracy: 0.9623 - lr: 1.0000e-05\n",
            "Epoch 96/100\n",
            "1/7 [===>..........................] - ETA: 0s - loss: 0.0525 - accuracy: 0.9688\n",
            "Epoch 96: val_accuracy did not improve from 0.98113\n",
            "7/7 [==============================] - 0s 11ms/step - loss: 0.0387 - accuracy: 0.9809 - val_loss: 0.0945 - val_accuracy: 0.9623 - lr: 1.0000e-05\n",
            "Epoch 97/100\n",
            "1/7 [===>..........................] - ETA: 0s - loss: 0.0231 - accuracy: 1.0000\n",
            "Epoch 97: val_accuracy did not improve from 0.98113\n",
            "7/7 [==============================] - 0s 10ms/step - loss: 0.0387 - accuracy: 0.9809 - val_loss: 0.0944 - val_accuracy: 0.9623 - lr: 1.0000e-05\n",
            "Epoch 98/100\n",
            "1/7 [===>..........................] - ETA: 0s - loss: 0.0308 - accuracy: 1.0000\n",
            "Epoch 98: val_accuracy did not improve from 0.98113\n",
            "7/7 [==============================] - 0s 10ms/step - loss: 0.0387 - accuracy: 0.9809 - val_loss: 0.0938 - val_accuracy: 0.9623 - lr: 1.0000e-05\n",
            "Epoch 99/100\n",
            "1/7 [===>..........................] - ETA: 0s - loss: 0.0311 - accuracy: 1.0000\n",
            "Epoch 99: val_accuracy did not improve from 0.98113\n",
            "7/7 [==============================] - 0s 10ms/step - loss: 0.0386 - accuracy: 0.9809 - val_loss: 0.0945 - val_accuracy: 0.9623 - lr: 1.0000e-05\n",
            "Epoch 100/100\n",
            "1/7 [===>..........................] - ETA: 0s - loss: 0.0516 - accuracy: 0.9688\n",
            "Epoch 100: val_accuracy did not improve from 0.98113\n",
            "7/7 [==============================] - 0s 10ms/step - loss: 0.0386 - accuracy: 0.9809 - val_loss: 0.0953 - val_accuracy: 0.9623 - lr: 1.0000e-05\n"
          ]
        }
      ]
    },
    {
      "cell_type": "markdown",
      "source": [
        "##PRECISIÓN Y PÉRDIDA DEL MODELO"
      ],
      "metadata": {
        "id": "xp76jzsrfZij"
      }
    },
    {
      "cell_type": "markdown",
      "source": [
        "##GRÁFICAS"
      ],
      "metadata": {
        "id": "eRmsBVt1MG_Z"
      }
    },
    {
      "cell_type": "code",
      "source": [
        "plt.figure(1)\n",
        "plt.plot(hist.history['loss'], color='b', label = 'Training loss')\n",
        "plt.plot(hist.history['val_loss'], color='r', label='Validation loss')\n",
        "plt.title('Training and validation loss')\n",
        "plt.legend()\n",
        "\n",
        "plt.figure(2)\n",
        "plt.plot(hist.history['accuracy'], color='b', label = 'Training accuracy')\n",
        "plt.plot(hist.history['val_accuracy'], color='r', label='Validation accuracy')\n",
        "plt.title('Training and validation accuracy')\n",
        "plt.legend()\n",
        "plt.show()"
      ],
      "metadata": {
        "colab": {
          "base_uri": "https://localhost:8080/",
          "height": 545
        },
        "id": "jEamW2hsIm8u",
        "outputId": "73788b96-3aab-4d0c-bd68-728c1112a0d5"
      },
      "execution_count": null,
      "outputs": [
        {
          "output_type": "display_data",
          "data": {
            "text/plain": [
              "<Figure size 432x288 with 1 Axes>"
            ],
            "image/png": "[encoded data removed]"
          },
          "metadata": {
            "needs_background": "light"
          }
        },
        {
          "output_type": "display_data",
          "data": {
            "text/plain": [
              "<Figure size 432x288 with 1 Axes>"
            ],
            "image/png": "[encoded data removed]"
          },
          "metadata": {
            "needs_background": "light"
          }
        }
      ]
    },
    {
      "cell_type": "markdown",
      "source": [
        "##EVALUACIÓN DEL MODELO"
      ],
      "metadata": {
        "id": "sGS5NZp_MMKq"
      }
    },
    {
      "cell_type": "code",
      "source": [
        "#Cargado del modelo guardado, predicción del test\n",
        "model_F = load_model('/content/DATASET_DESLIZAMIENTOS_Via-Aloag_Santo_Domingo/best_model_0,9811.h5')\n",
        "predict_test = model_F.predict(inputs_test)\n",
        "print(predict_test[:5])\n",
        "print('---------')\n",
        "print(outputs_test[:5])"
      ],
      "metadata": {
        "colab": {
          "base_uri": "https://localhost:8080/"
        },
        "id": "EUgW9xr-csAS",
        "outputId": "e7adacc1-8b6a-44b0-b04d-e4e6872d6911"
      },
      "execution_count": null,
      "outputs": [
        {
          "output_type": "stream",
          "name": "stdout",
          "text": [
            "[[0.9999994 ]\n",
            " [0.97310704]\n",
            " [0.9999125 ]\n",
            " [0.9563724 ]\n",
            " [0.99972457]]\n",
            "---------\n",
            "[[1.]\n",
            " [1.]\n",
            " [1.]\n",
            " [1.]\n",
            " [1.]]\n"
          ]
        }
      ]
    },
    {
      "cell_type": "code",
      "source": [
        "#Predicción del test con el modelo entrenado\n",
        "predict = model.predict(inputs_test)\n",
        "print(predict[:5])\n",
        "print('---------')\n",
        "print(outputs_test[:5])"
      ],
      "metadata": {
        "colab": {
          "base_uri": "https://localhost:8080/"
        },
        "id": "uTbTW25cduHT",
        "outputId": "7c451dbf-9f5b-4734-9a3f-64058134e673"
      },
      "execution_count": null,
      "outputs": [
        {
          "output_type": "stream",
          "name": "stdout",
          "text": [
            "[[0.99999976]\n",
            " [0.9754969 ]\n",
            " [0.9999541 ]\n",
            " [0.9569875 ]\n",
            " [0.99984527]]\n",
            "---------\n",
            "[[1.]\n",
            " [1.]\n",
            " [1.]\n",
            " [1.]\n",
            " [1.]]\n"
          ]
        }
      ]
    },
    {
      "cell_type": "code",
      "source": [
        "#Calificación del modelo\n",
        "score = model_F.evaluate(inputs_test, outputs_test, verbose=1)\n",
        "print(\"Test loss:\", score[0])\n",
        "print(\"Test accuracy:\", score[1])"
      ],
      "metadata": {
        "colab": {
          "base_uri": "https://localhost:8080/"
        },
        "id": "-hbl857Z5dqW",
        "outputId": "948b5afa-3b73-4886-8f96-71c506bec054"
      },
      "execution_count": null,
      "outputs": [
        {
          "output_type": "stream",
          "name": "stdout",
          "text": [
            "2/2 [==============================] - 0s 8ms/step - loss: 0.0889 - accuracy: 0.9811\n",
            "Test loss: 0.08893875032663345\n",
            "Test accuracy: 0.9811320900917053\n"
          ]
        },
        {
          "output_type": "stream",
          "name": "stderr",
          "text": [
            "/usr/local/lib/python3.7/dist-packages/tensorflow/python/util/dispatch.py:1082: UserWarning: \"`binary_crossentropy` received `from_logits=True`, but the `output` argument was produced by a sigmoid or softmax activation and thus does not represent logits. Was this intended?\"\n",
            "  return dispatch_target(*args, **kwargs)\n"
          ]
        }
      ]
    },
    {
      "cell_type": "markdown",
      "source": [
        "##MATRIZ DE CONFUSIÓN"
      ],
      "metadata": {
        "id": "1BhNcJ0zMlNB"
      }
    },
    {
      "cell_type": "code",
      "source": [
        "#Matriz de confusión del entrenamiento\n",
        "model_F = load_model('/content/DATASET_DESLIZAMIENTOS_Via-Aloag_Santo_Domingo/best_model_0,9811.h5')\n",
        "train_predict = model_F.predict(inputs_train)\n",
        "rounded_train_predict = np.round(train_predict)\n",
        "matc0=confusion_matrix(outputs_train, rounded_train_predict)\n",
        "plot_confusion_matrix(conf_mat=matc0, figsize=(5,5), show_normed=False)\n",
        "plt.tight_layout()\n",
        "\n",
        "#LABELS: \n",
        "#No Deslizamientos = 0, \n",
        "#Si Deslizamientos = 1."
      ],
      "metadata": {
        "colab": {
          "base_uri": "https://localhost:8080/",
          "height": 369
        },
        "id": "vkQpEH_PyfFs",
        "outputId": "a37266b1-a586-4616-f0f8-38571fc2d898"
      },
      "execution_count": null,
      "outputs": [
        {
          "output_type": "display_data",
          "data": {
            "text/plain": [
              "<Figure size 360x360 with 1 Axes>"
            ],
            "image/png": "[encoded data removed]"
          },
          "metadata": {
            "needs_background": "light"
          }
        }
      ]
    },
    {
      "cell_type": "code",
      "source": [
        " #Matriz de confusión de la predicción\n",
        "\n",
        "model_F = load_model('/content/DATASET_DESLIZAMIENTOS_Via-Aloag_Santo_Domingo/best_model_0,9811.h5')\n",
        "test_predict = model_F.predict(inputs_test)\n",
        "\n",
        "rounded_test_predict = np.round(test_predict)\n",
        "matc=confusion_matrix(outputs_test, rounded_test_predict)\n",
        "plot_confusion_matrix(conf_mat=matc, figsize=(5,5), show_normed=False)\n",
        "plt.tight_layout()\n",
        "\n",
        "#LABELS: \n",
        "#No Deslizamientos = 0, \n",
        "#Si Deslizamientos = 1."
      ],
      "metadata": {
        "colab": {
          "base_uri": "https://localhost:8080/",
          "height": 369
        },
        "id": "YZPOi5RmKoh8",
        "outputId": "02406461-ac7f-4dbe-8c3d-f35d357dbdd1"
      },
      "execution_count": null,
      "outputs": [
        {
          "output_type": "display_data",
          "data": {
            "text/plain": [
              "<Figure size 360x360 with 1 Axes>"
            ],
            "image/png": "[encoded data removed]"
          },
          "metadata": {
            "needs_background": "light"
          }
        }
      ]
    },
    {
      "cell_type": "code",
      "source": [
        "print(metrics.classification_report(outputs_test, rounded_test_predict, digits = 4))"
      ],
      "metadata": {
        "colab": {
          "base_uri": "https://localhost:8080/"
        },
        "id": "3vnzSMbvLbRm",
        "outputId": "316b190f-8516-40a0-ea9a-d072f17a2159"
      },
      "execution_count": null,
      "outputs": [
        {
          "output_type": "stream",
          "name": "stdout",
          "text": [
            "              precision    recall  f1-score   support\n",
            "\n",
            "         0.0     1.0000    0.9000    0.9474        20\n",
            "         1.0     0.9429    1.0000    0.9706        33\n",
            "\n",
            "    accuracy                         0.9623        53\n",
            "   macro avg     0.9714    0.9500    0.9590        53\n",
            "weighted avg     0.9644    0.9623    0.9618        53\n",
            "\n"
          ]
        }
      ]
    },
    {
      "cell_type": "markdown",
      "source": [
        "#PREDICCIÓN"
      ],
      "metadata": {
        "id": "Pj5F_i0jIJK9"
      }
    },
    {
      "cell_type": "markdown",
      "source": [
        "##PRUEBA N°1"
      ],
      "metadata": {
        "id": "OmsPXpjwPWIh"
      }
    },
    {
      "cell_type": "code",
      "source": [
        "#Clonar carpeta Github\n",
        "! git clone 'https://github.com/jfcepeda97/DATASET_DESLIZAMIENTOS_Via-Aloag_Santo_Domingo.git'"
      ],
      "metadata": {
        "colab": {
          "base_uri": "https://localhost:8080/"
        },
        "id": "8QXnReWPjUUC",
        "outputId": "37c192ac-5c4f-47b6-fc65-c9d86ae66d44"
      },
      "execution_count": null,
      "outputs": [
        {
          "output_type": "stream",
          "name": "stdout",
          "text": [
            "Mounted at /content/drive\n"
          ]
        }
      ]
    },
    {
      "cell_type": "code",
      "source": [
        "#Creación de tensores para almacenamiento de entradas\n",
        "inputs_aspect= np.empty((43077, 5, 5), dtype='float32')\n",
        "inputs_cnbl = np.empty((43077, 5, 5), dtype='float32')\n",
        "inputs_cnd= np.empty((43077, 5, 5), dtype='float32')\n",
        "inputs_dtf= np.empty((43077, 5, 5), dtype='float32')\n",
        "inputs_dtr= np.empty((43077, 5, 5), dtype='float32')\n",
        "inputs_elv= np.empty((43077, 5, 5), dtype='float32')\n",
        "inputs_g1= np.empty((43077, 5, 5), dtype='float32')\n",
        "inputs_g3= np.empty((43077, 5, 5), dtype='float32')\n",
        "inputs_g4= np.empty((43077, 5, 5), dtype='float32')\n",
        "inputs_g5= np.empty((43077, 5, 5), dtype='float32')\n",
        "inputs_lsf= np.empty((43077, 5, 5), dtype='float32')\n",
        "inputs_plc= np.empty((43077, 5, 5), dtype='float32')\n",
        "inputs_prc= np.empty((43077, 5, 5), dtype='float32')\n",
        "inputs_rsp= np.empty((43077, 5, 5), dtype='float32')\n",
        "inputs_slp= np.empty((43077, 5, 5), dtype='float32')\n",
        "inputs_twi= np.empty((43077, 5, 5), dtype='float32')\n",
        "inputs_v1= np.empty((43077, 5, 5), dtype='float32')\n",
        "inputs_v2= np.empty((43077, 5, 5), dtype='float32')\n",
        "inputs_v3= np.empty((43077, 5, 5), dtype='float32')"
      ],
      "metadata": {
        "id": "GVq5C_4qGPjL"
      },
      "execution_count": null,
      "outputs": []
    },
    {
      "cell_type": "code",
      "source": [
        "#Enlaces de las carpetas que contienen a las variables de entrada para predicción\n",
        "aspect= r'/content/DATASET_DESLIZAMIENTOS_Via-Aloag_Santo_Domingo/PREDICT_DATASET/Aspect'\n",
        "cnbl = r'/content/DATASET_DESLIZAMIENTOS_Via-Aloag_Santo_Domingo/PREDICT_DATASET/Channel Network Base Level'\n",
        "cnd= r'/content/DATASET_DESLIZAMIENTOS_Via-Aloag_Santo_Domingo/PREDICT_DATASET/Channet_Network_Distance'\n",
        "dtf= r'/content/DATASET_DESLIZAMIENTOS_Via-Aloag_Santo_Domingo/PREDICT_DATASET/Distance_to_faults'\n",
        "dtr= r'/content/DATASET_DESLIZAMIENTOS_Via-Aloag_Santo_Domingo/PREDICT_DATASET/Distance_to_roads'\n",
        "elv= r'/content/DATASET_DESLIZAMIENTOS_Via-Aloag_Santo_Domingo/PREDICT_DATASET/Elevation'\n",
        "g1= r'/content/DATASET_DESLIZAMIENTOS_Via-Aloag_Santo_Domingo/PREDICT_DATASET/G1'\n",
        "g3= r'/content/DATASET_DESLIZAMIENTOS_Via-Aloag_Santo_Domingo/PREDICT_DATASET/G3'\n",
        "g4= r'/content/DATASET_DESLIZAMIENTOS_Via-Aloag_Santo_Domingo/PREDICT_DATASET/G4'\n",
        "g5= r'/content/DATASET_DESLIZAMIENTOS_Via-Aloag_Santo_Domingo/PREDICT_DATASET/G5'\n",
        "lsf= r'/content/DATASET_DESLIZAMIENTOS_Via-Aloag_Santo_Domingo/PREDICT_DATASET/LS-Factor'\n",
        "plc= r'/content/DATASET_DESLIZAMIENTOS_Via-Aloag_Santo_Domingo/PREDICT_DATASET/Plan_curvature'\n",
        "prc= r'/content/DATASET_DESLIZAMIENTOS_Via-Aloag_Santo_Domingo/PREDICT_DATASET/Profile curvature'\n",
        "rsp= r'/content/DATASET_DESLIZAMIENTOS_Via-Aloag_Santo_Domingo/PREDICT_DATASET/Relative Slope Position'\n",
        "slp= r'/content/DATASET_DESLIZAMIENTOS_Via-Aloag_Santo_Domingo/PREDICT_DATASET/Slope'\n",
        "twi= r'/content/DATASET_DESLIZAMIENTOS_Via-Aloag_Santo_Domingo/PREDICT_DATASET/TWI'\n",
        "v1= r'/content/DATASET_DESLIZAMIENTOS_Via-Aloag_Santo_Domingo/PREDICT_DATASET/V1'\n",
        "v2= r'/content/DATASET_DESLIZAMIENTOS_Via-Aloag_Santo_Domingo/PREDICT_DATASET/V2'\n",
        "v3= r'/content/DATASET_DESLIZAMIENTOS_Via-Aloag_Santo_Domingo/PREDICT_DATASET/V3'"
      ],
      "metadata": {
        "id": "aPgyvQbvWfwO"
      },
      "execution_count": null,
      "outputs": []
    },
    {
      "cell_type": "code",
      "source": [
        "#Enlistado de archivos (imágenes) de cada carpeta de entrada\n",
        "aspect_name = os.listdir(aspect)\n",
        "cnbl_name = os.listdir(cnbl)\n",
        "cnd_name = os.listdir(cnd)\n",
        "dtf_name = os.listdir(dtf)\n",
        "dtr_name = os.listdir(dtr)\n",
        "elv_name = os.listdir(elv)\n",
        "g1_name = os.listdir(g1)\n",
        "g3_name = os.listdir(g3)\n",
        "g4_name = os.listdir(g4)\n",
        "g5_name = os.listdir(g5)\n",
        "lsf_name = os.listdir(lsf)\n",
        "plc_name = os.listdir(plc)\n",
        "prc_name = os.listdir(prc)\n",
        "rsp_name = os.listdir(rsp)\n",
        "slp_name = os.listdir(slp)\n",
        "twi_name = os.listdir(twi)\n",
        "v1_name = os.listdir(v1)\n",
        "v2_name = os.listdir(v2)\n",
        "v3_name = os.listdir(v3)"
      ],
      "metadata": {
        "id": "ohp-r-nkU04A"
      },
      "execution_count": null,
      "outputs": []
    },
    {
      "cell_type": "code",
      "source": [
        "#Organizar archivos (imágenes) de entrada en orden alfabético\n",
        "aspect_name = sorted(aspect_name)\n",
        "cnbl_name = sorted(cnbl_name)\n",
        "cnd_name = sorted(cnd_name)\n",
        "dtf_name = sorted(dtf_name)\n",
        "dtr_name = sorted(dtr_name)\n",
        "elv_name = sorted(elv_name)\n",
        "g1_name = sorted(g1_name)\n",
        "g3_name = sorted(g3_name)\n",
        "g4_name = sorted(g4_name)\n",
        "g5_name = sorted(g5_name)\n",
        "lsf_name = sorted(lsf_name)\n",
        "plc_name = sorted(plc_name)\n",
        "prc_name = sorted(prc_name)\n",
        "rsp_name = sorted(rsp_name)\n",
        "slp_name = sorted(slp_name)\n",
        "twi_name = sorted(twi_name)\n",
        "v1_name = sorted(v1_name)\n",
        "v2_name = sorted(v2_name)\n",
        "v3_name = sorted(v3_name)"
      ],
      "metadata": {
        "id": "TpCNvGeoU443"
      },
      "execution_count": null,
      "outputs": []
    },
    {
      "cell_type": "code",
      "source": [
        "#Verificación de la organización de archivos\n",
        "print(aspect_name[0:10])\n",
        "print(elv_name[0:10])"
      ],
      "metadata": {
        "colab": {
          "base_uri": "https://localhost:8080/"
        },
        "id": "I2NeLu_QhH3T",
        "outputId": "0d7513f8-686d-40c7-b69f-3aa499fecef5"
      },
      "execution_count": null,
      "outputs": [
        {
          "output_type": "stream",
          "name": "stdout",
          "text": [
            "['Aspect_0.tif', 'Aspect_1.tif', 'Aspect_10.tif', 'Aspect_100.tif', 'Aspect_1000.tif', 'Aspect_10000.tif', 'Aspect_10001.tif', 'Aspect_10002.tif', 'Aspect_10003.tif', 'Aspect_10004.tif']\n",
            "['Elevation_0.tif', 'Elevation_1.tif', 'Elevation_10.tif', 'Elevation_100.tif', 'Elevation_1000.tif', 'Elevation_10000.tif', 'Elevation_10001.tif', 'Elevation_10002.tif', 'Elevation_10003.tif', 'Elevation_10004.tif']\n"
          ]
        }
      ]
    },
    {
      "cell_type": "code",
      "source": [
        "#Almacenamiento de imágenes de entrada en los tensores de entrada\n",
        "l=0\n",
        "for i in aspect_name:\n",
        "  var_aspect=os.path.join(aspect,i)\n",
        "  v_aspect = Image.open(var_aspect)\n",
        "  va_aspect = np.array(v_aspect)\n",
        "  inputs_aspect[l] = va_aspect\n",
        "  l=l+1\n",
        "\n",
        "l=0\n",
        "for i in cnbl_name:\n",
        "  var_cnbl=os.path.join(cnbl,i)\n",
        "  v_cnbl = Image.open(var_cnbl)\n",
        "  va_cnbl = np.array(v_cnbl)\n",
        "  inputs_cnbl[l] = va_cnbl\n",
        "  l=l+1\n",
        "\n",
        "l=0\n",
        "for i in cnd_name:\n",
        "  var_cnd=os.path.join(cnd,i)\n",
        "  v_cnd = Image.open(var_cnd)\n",
        "  va_cnd = np.array(v_cnd)\n",
        "  inputs_cnd[l] = va_cnd\n",
        "  l=l+1\n",
        "\n",
        "l=0\n",
        "for i in dtf_name:\n",
        "  var_dtf=os.path.join(dtf,i)\n",
        "  v_dtf = Image.open(var_dtf)\n",
        "  va_dtf = np.array(v_dtf)\n",
        "  inputs_dtf[l] = va_dtf\n",
        "  l=l+1\n",
        "\n",
        "l=0\n",
        "for i in dtr_name:\n",
        "  var_dtr=os.path.join(dtr,i)\n",
        "  v_dtr = Image.open(var_dtr)\n",
        "  va_dtr = np.array(v_dtr)\n",
        "  inputs_dtr[l] = va_dtr\n",
        "  l=l+1\n",
        "\n",
        "l=0\n",
        "for i in elv_name:\n",
        "  var_elv=os.path.join(elv,i)\n",
        "  v_elv = Image.open(var_elv)\n",
        "  va_elv = np.array(v_elv)\n",
        "  inputs_elv[l] = va_elv\n",
        "  l=l+1\n",
        "\n",
        "l=0\n",
        "for i in g1_name:\n",
        "  var_g1=os.path.join(g1,i)\n",
        "  v_g1 = Image.open(var_g1)\n",
        "  va_g1 = np.array(v_g1)\n",
        "  va_g1 = np.clip(va_g1, 0, 1)\n",
        "  inputs_g1[l] = va_g1\n",
        "  l=l+1\n",
        "\n",
        "l=0\n",
        "for i in g3_name:\n",
        "  var_g3=os.path.join(g3,i)\n",
        "  v_g3 = Image.open(var_g3)\n",
        "  va_g3 = np.array(v_g3)\n",
        "  va_g3 = np.clip(va_g3, 0, 1)\n",
        "  inputs_g3[l] = va_g3\n",
        "  l=l+1\n",
        "\n",
        "l=0\n",
        "for i in g4_name:\n",
        "  var_g4=os.path.join(g4,i)\n",
        "  v_g4 = Image.open(var_g4)\n",
        "  va_g4 = np.array(v_g4)\n",
        "  va_g4 = np.clip(va_g4, 0, 1)\n",
        "  inputs_g4[l] = va_g4\n",
        "  l=l+1\n",
        "\n",
        "l=0\n",
        "for i in g5_name:\n",
        "  var_g5=os.path.join(g5,i)\n",
        "  v_g5 = Image.open(var_g5)\n",
        "  va_g5 = np.array(v_g5)\n",
        "  va_g5 = np.clip(va_g5, 0, 1)\n",
        "  inputs_g5[l] = va_g5\n",
        "  l=l+1\n",
        "\n",
        "l=0\n",
        "for i in lsf_name:\n",
        "  var_lsf=os.path.join(lsf,i)\n",
        "  v_lsf = Image.open(var_lsf)\n",
        "  va_lsf = np.array(v_lsf)\n",
        "  inputs_lsf[l] = va_lsf\n",
        "  l=l+1\n",
        "\n",
        "\n",
        "l=0\n",
        "for i in plc_name:\n",
        "  var_plc = os.path.join(plc,i)\n",
        "  v_plc = Image.open(var_plc)\n",
        "  va_plc = np.array(v_plc)\n",
        "  inputs_plc[l] = va_plc\n",
        "  l=l+1\n",
        "\n",
        "l=0\n",
        "for i in prc_name:\n",
        "  var_prc = os.path.join(prc,i)\n",
        "  v_prc = Image.open(var_prc)\n",
        "  va_prc = np.array(v_prc)\n",
        "  inputs_prc[l] = va_prc\n",
        "  l=l+1\n",
        "\n",
        "l=0\n",
        "for i in rsp_name:\n",
        "  var_rsp = os.path.join(rsp,i)\n",
        "  v_rsp = Image.open(var_rsp)\n",
        "  va_rsp = np.array(v_rsp)\n",
        "  inputs_rsp[l] = va_rsp\n",
        "  l=l+1\n",
        "\n",
        "l=0\n",
        "for i in slp_name:\n",
        "  var_slp = os.path.join(slp,i)\n",
        "  v_slp = Image.open(var_slp)\n",
        "  va_slp = np.array(v_slp)\n",
        "  inputs_slp[l] = va_slp\n",
        "  l=l+1\n",
        "\n",
        "l=0\n",
        "for i in twi_name:\n",
        "  var_twi = os.path.join(twi,i)\n",
        "  v_twi = Image.open(var_twi)\n",
        "  va_twi = np.array(v_twi)\n",
        "  inputs_twi[l] = va_twi\n",
        "  l=l+1\n",
        "\n",
        "l=0\n",
        "for i in v1_name:\n",
        "  var_v1 = os.path.join(v1,i)\n",
        "  v_v1 = Image.open(var_v1)\n",
        "  va_v1 = np.array(v_v1)\n",
        "  va_v1 = np.clip(va_v1, 0, 1)\n",
        "  inputs_v1[l] = va_v1\n",
        "  l=l+1\n",
        "\n",
        "l=0\n",
        "for i in v2_name:\n",
        "  var_v2 = os.path.join(v2,i)\n",
        "  v_v2 = Image.open(var_v2)\n",
        "  va_v2 = np.array(v_v2)\n",
        "  va_v2 = np.clip(va_v2, 0, 1)\n",
        "  inputs_v2[l] = va_v2\n",
        "  l=l+1\n",
        "\n",
        "l=0\n",
        "for i in v3_name:\n",
        "  var_v3 = os.path.join(v3,i)\n",
        "  v_v3 = Image.open(var_v3)\n",
        "  va_v3 = np.array(v_v3)\n",
        "  va_v3 = np.clip(va_v3, 0, 1)\n",
        "  inputs_v3[l] = va_v3\n",
        "  l=l+1"
      ],
      "metadata": {
        "id": "T-Zg2sFSOC_R"
      },
      "execution_count": null,
      "outputs": []
    },
    {
      "cell_type": "code",
      "source": [
        "#Tensor de almacenamiento para el apilamiento de variables (imágenes)\n",
        "bag_predict = np.empty((43077,5, 5, 19), dtype='float32')\n",
        "v=len(inputs_cnbl)"
      ],
      "metadata": {
        "id": "Geo9ThxcJq-7"
      },
      "execution_count": null,
      "outputs": []
    },
    {
      "cell_type": "code",
      "source": [
        "#Apilamiento de variables (imágenes)\n",
        "a=0\n",
        "for a in range(v):\n",
        "  bag_predict[a] = np.dstack((inputs_aspect[a], inputs_cnbl[a], inputs_cnd[a], inputs_dtf[a], inputs_dtr[a], inputs_elv[a],\n",
        "                              inputs_g1[a], inputs_g3[a], inputs_g4[a], inputs_g5[a], inputs_lsf[a], inputs_plc[a], \n",
        "                              inputs_prc[a], inputs_rsp[a], inputs_slp[a], inputs_twi[a], inputs_v1[a], inputs_v2[a], inputs_v3[a]))"
      ],
      "metadata": {
        "id": "SeUeyJl8Ji_S"
      },
      "execution_count": null,
      "outputs": []
    },
    {
      "cell_type": "code",
      "source": [
        "#Gráficas de verificación\n",
        "\n",
        "fig, ax = plt.subplots(2,10,figsize=(20,5))\n",
        "\n",
        "q=0   #Posición dentro de los inputs\n",
        "\n",
        "ax[0,0].imshow(bag_predict[q,:,:,0], cmap='gray')\n",
        "ax[0,0].set_title('Aspect')\n",
        "ax[0,1].imshow(bag_predict[q,:,:,1], cmap='gray')\n",
        "ax[0,1].set_title('C.N.B.Level')\n",
        "ax[0,2].imshow(bag_predict[q,:,:,2], cmap='gray')\n",
        "ax[0,2].set_title('C.N.Distance')\n",
        "ax[0,3].imshow(bag_predict[q,:,:,3], cmap='gray')\n",
        "ax[0,3].set_title('D. to faults')\n",
        "ax[0,4].imshow(bag_predict[q,:,:,4], cmap='gray')\n",
        "ax[0,4].set_title('D. to roads.')\n",
        "ax[0,5].imshow(bag_predict[q,:,:,5], cmap='gray')\n",
        "ax[0,5].set_title('Elevation')\n",
        "ax[0,6].imshow(bag_predict[q,:,:,6], cmap='gray')\n",
        "ax[0,6].set_title('Geology 1')\n",
        "ax[0,7].imshow(bag_predict[q,:,:,7], cmap='gray')\n",
        "ax[0,7].set_title('Geology 3')\n",
        "ax[0,8].imshow(bag_predict[q,:,:,8], cmap='gray')\n",
        "ax[0,8].set_title('Geology 4')\n",
        "ax[0,9].imshow(bag_predict[q,:,:,9], cmap='gray')\n",
        "ax[0,9].set_title('Geology 5')\n",
        "ax[1,0].imshow(bag_predict[q,:,:,10], cmap='gray')\n",
        "ax[1,0].set_title('LS-Factor')\n",
        "ax[1,1].imshow(bag_predict[q,:,:,11], cmap='gray')\n",
        "ax[1,1].set_title('P. Curvature')\n",
        "ax[1,2].imshow(bag_predict[q,:,:,12], cmap='gray')\n",
        "ax[1,2].set_title('P. Curvature')\n",
        "ax[1,3].imshow(bag_predict[q,:,:,13], cmap='gray')\n",
        "ax[1,3].set_title('R.S.Position')\n",
        "ax[1,4].imshow(bag_predict[q,:,:,14], cmap='gray')\n",
        "ax[1,4].set_title('Slope.')\n",
        "ax[1,5].imshow(bag_predict[q,:,:,15], cmap='gray')\n",
        "ax[1,5].set_title('TWI')\n",
        "ax[1,6].imshow(bag_predict[q,:,:,16], cmap='gray')\n",
        "ax[1,6].set_title('Vegetation 1')\n",
        "ax[1,7].imshow(bag_predict[q,:,:,17], cmap='gray')\n",
        "ax[1,7].set_title('Vegetation 2')\n",
        "ax[1,8].imshow(bag_predict[q,:,:,18], cmap='gray')\n",
        "ax[1,8].set_title('Vegetation 3')\n",
        "ax[1,9].imshow(bag_predict[q,:,:,18], cmap='gray')\n",
        "ax[1,9].set_title('No')\n",
        "fig.tight_layout()\n",
        "plt.show()"
      ],
      "metadata": {
        "colab": {
          "base_uri": "https://localhost:8080/",
          "height": 232
        },
        "id": "g4jIjolbglAL",
        "outputId": "5da5dbc1-a2e8-44c2-c2a1-dc7a38fe2e22"
      },
      "execution_count": null,
      "outputs": [
        {
          "output_type": "display_data",
          "data": {
            "text/plain": [
              "<Figure size 1440x360 with 20 Axes>"
            ],
            "image/png": "[encoded data removed]"
          },
          "metadata": {
            "needs_background": "light"
          }
        }
      ]
    },
    {
      "cell_type": "code",
      "source": [
        "#Tensor para almacenamiento de las predicciones\n",
        "predict_1= np.empty((43077,1), dtype='float32')"
      ],
      "metadata": {
        "id": "G3Gm5_TxDAgX"
      },
      "execution_count": null,
      "outputs": []
    },
    {
      "cell_type": "code",
      "source": [
        "#Predicción con el modelo guardado\n",
        "predict_h5 = load_model('/content/DATASET_DESLIZAMIENTOS_Via-Aloag_Santo_Domingo/best_model_0,9811.h5')\n",
        "predict_1 = predict_h5.predict(bag_predict)\n",
        "print(predict_1[:10])"
      ],
      "metadata": {
        "colab": {
          "base_uri": "https://localhost:8080/"
        },
        "id": "fxw9l6O4j0kI",
        "outputId": "577da947-d64f-47a9-b3de-74a033901e45"
      },
      "execution_count": null,
      "outputs": [
        {
          "output_type": "stream",
          "name": "stdout",
          "text": [
            "[[0.99999726]\n",
            " [0.99999714]\n",
            " [0.999998  ]\n",
            " [0.29296553]\n",
            " [0.77916485]\n",
            " [0.8859144 ]\n",
            " [0.8921886 ]\n",
            " [0.89815885]\n",
            " [0.903118  ]\n",
            " [0.9064465 ]]\n"
          ]
        }
      ]
    },
    {
      "cell_type": "code",
      "source": [
        "#Generación de un diccionario con valores de posición de pixel y predicción\n",
        "dic1t = {\"Numeration\": list(aspect_name), \"Prediction\":list(predict_1)}\n",
        "df = pd.DataFrame(dic1t)\n",
        "\n",
        "#Exportar diccionario a Excel \n",
        "df.to_excel(\"Predicciones.xlsx\")"
      ],
      "metadata": {
        "id": "3xFI5DizDGTm"
      },
      "execution_count": null,
      "outputs": []
    },
    {
      "cell_type": "code",
      "source": [
        "#Verificación de valores exportados a Excel\n",
        "print(df.Numeration[0:10])\n",
        "print(df.Prediction[0:10])"
      ],
      "metadata": {
        "id": "F6VOdQkmDJGp",
        "colab": {
          "base_uri": "https://localhost:8080/"
        },
        "outputId": "4b650dbf-c2c4-4f00-8981-b631af224f1f"
      },
      "execution_count": null,
      "outputs": [
        {
          "output_type": "stream",
          "name": "stdout",
          "text": [
            "0        Aspect_0.tif\n",
            "1        Aspect_1.tif\n",
            "2       Aspect_10.tif\n",
            "3      Aspect_100.tif\n",
            "4     Aspect_1000.tif\n",
            "5    Aspect_10000.tif\n",
            "6    Aspect_10001.tif\n",
            "7    Aspect_10002.tif\n",
            "8    Aspect_10003.tif\n",
            "9    Aspect_10004.tif\n",
            "Name: Numeration, dtype: object\n",
            "0    [0.99999726]\n",
            "1    [0.99999714]\n",
            "2      [0.999998]\n",
            "3    [0.29296553]\n",
            "4    [0.77916485]\n",
            "5     [0.8859144]\n",
            "6     [0.8921886]\n",
            "7    [0.89815885]\n",
            "8      [0.903118]\n",
            "9     [0.9064465]\n",
            "Name: Prediction, dtype: object\n"
          ]
        }
      ]
    }
  ],
  "metadata": {
    "accelerator": "GPU",
    "colab": {
      "name": "CNN_PREDICCIÓN_DESLIZAMIENTOS - Proyecto Deep Learning",
      "provenance": [],
      "collapsed_sections": [],
      "include_colab_link": true
    },
    "kernelspec": {
      "display_name": "Python 3",
      "name": "python3"
    },
    "language_info": {
      "name": "python"
    }
  },
  "nbformat": 4,
  "nbformat_minor": 0
}