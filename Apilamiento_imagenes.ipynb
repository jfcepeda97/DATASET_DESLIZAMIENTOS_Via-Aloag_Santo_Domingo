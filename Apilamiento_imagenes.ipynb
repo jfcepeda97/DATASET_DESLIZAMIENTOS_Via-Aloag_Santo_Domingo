{
  "nbformat": 4,
  "nbformat_minor": 0,
  "metadata": {
    "colab": {
      "name": "Apilamiento_imagenes.ipynb",
      "provenance": [],
      "collapsed_sections": [],
      "authorship_tag": "ABX9TyOaLQWuJO4xazvPefnzq+24",
      "include_colab_link": true
    },
    "kernelspec": {
      "name": "python3",
      "display_name": "Python 3"
    },
    "language_info": {
      "name": "python"
    },
    "accelerator": "GPU"
  },
  "cells": [
    {
      "cell_type": "markdown",
      "metadata": {
        "id": "view-in-github",
        "colab_type": "text"
      },
      "source": [
        "<a href=\"https://colab.research.google.com/github/jfcepeda97/DATASET_DESLIZAMIENTOS_Via-Aloag_Santo_Domingo/blob/master/Apilamiento_imagenes.ipynb\" target=\"_parent\"><img src=\"https://colab.research.google.com/assets/colab-badge.svg\" alt=\"Open In Colab\"/></a>"
      ]
    },
    {
      "cell_type": "code",
      "source": [
        "from google.colab import drive\n",
        "drive.mount('/content/drive')"
      ],
      "metadata": {
        "colab": {
          "base_uri": "https://localhost:8080/"
        },
        "id": "CZz8STE-TZ8G",
        "outputId": "ae0d5094-bc0b-4133-8391-3a2109de95ed"
      },
      "execution_count": null,
      "outputs": [
        {
          "output_type": "stream",
          "name": "stdout",
          "text": [
            "Mounted at /content/drive\n"
          ]
        }
      ]
    },
    {
      "cell_type": "code",
      "source": [
        "import glob\n",
        "from PIL import Image, ImageChops, ImageFilter\n",
        "from keras.preprocessing.image import ImageDataGenerator \n",
        "from sklearn.utils import shuffle\n",
        "from sklearn.model_selection import train_test_split\n",
        "import cv2\n",
        "import numpy as np\n",
        "import matplotlib.pyplot as plt\n",
        "%matplotlib inline\n",
        "import os\n",
        "from osgeo import gdal"
      ],
      "metadata": {
        "id": "S7Ea_c42KBIo"
      },
      "execution_count": null,
      "outputs": []
    },
    {
      "cell_type": "code",
      "source": [
        "basename= '*.tif'\n",
        "outdir2= '/content/drive/MyDrive/Colab Notebooks/PROYECTO SOFTWARE/ANALISIS TERRENO BÁSICO_n1'\n",
        "filelist2= glob.glob(os.path.join(outdir2,basename))\n",
        "files_string= \" \".join(filelist2)\n",
        "print(files_string)"
      ],
      "metadata": {
        "colab": {
          "base_uri": "https://localhost:8080/"
        },
        "id": "_movnjdjQhz3",
        "outputId": "a67516b8-b224-407e-d0c7-d70b565226a8"
      },
      "execution_count": null,
      "outputs": [
        {
          "output_type": "stream",
          "name": "stdout",
          "text": [
            "/content/drive/MyDrive/Colab Notebooks/PROYECTO SOFTWARE/ANALISIS TERRENO BÁSICO_n1/Elevation.tif /content/drive/MyDrive/Colab Notebooks/PROYECTO SOFTWARE/ANALISIS TERRENO BÁSICO_n1/LS-Factor.tif /content/drive/MyDrive/Colab Notebooks/PROYECTO SOFTWARE/ANALISIS TERRENO BÁSICO_n1/Plan Curvature.tif /content/drive/MyDrive/Colab Notebooks/PROYECTO SOFTWARE/ANALISIS TERRENO BÁSICO_n1/Topographic Wetness Index.tif /content/drive/MyDrive/Colab Notebooks/PROYECTO SOFTWARE/ANALISIS TERRENO BÁSICO_n1/Channel Network Distance.tif /content/drive/MyDrive/Colab Notebooks/PROYECTO SOFTWARE/ANALISIS TERRENO BÁSICO_n1/Slope.tif /content/drive/MyDrive/Colab Notebooks/PROYECTO SOFTWARE/ANALISIS TERRENO BÁSICO_n1/Channel Network Base Level.tif /content/drive/MyDrive/Colab Notebooks/PROYECTO SOFTWARE/ANALISIS TERRENO BÁSICO_n1/Relative Slope Position.tif /content/drive/MyDrive/Colab Notebooks/PROYECTO SOFTWARE/ANALISIS TERRENO BÁSICO_n1/Aspect.tif /content/drive/MyDrive/Colab Notebooks/PROYECTO SOFTWARE/ANALISIS TERRENO BÁSICO_n1/Profile Curvature.tif /content/drive/MyDrive/Colab Notebooks/PROYECTO SOFTWARE/ANALISIS TERRENO BÁSICO_n1/Vegetation.tif /content/drive/MyDrive/Colab Notebooks/PROYECTO SOFTWARE/ANALISIS TERRENO BÁSICO_n1/Distance_to_faults.tif /content/drive/MyDrive/Colab Notebooks/PROYECTO SOFTWARE/ANALISIS TERRENO BÁSICO_n1/Distance_to_roads.tif /content/drive/MyDrive/Colab Notebooks/PROYECTO SOFTWARE/ANALISIS TERRENO BÁSICO_n1/Geology.tif\n"
          ]
        }
      ]
    },
    {
      "cell_type": "code",
      "source": [
        "from osgeo import gdal\n",
        "\n",
        "gg= gdal.BuildVRT(\"\", filelist2, separate= True)\n",
        "g= gdal.Translate(\"Multi_band.tif\",gg, format= \"GTiff\")"
      ],
      "metadata": {
        "id": "k_8fTAZwSblk"
      },
      "execution_count": null,
      "outputs": []
    },
    {
      "cell_type": "code",
      "source": [
        "dataset = gdal.Open(r'/content/Multi_band.tif')"
      ],
      "metadata": {
        "id": "-0E1iweBlETZ"
      },
      "execution_count": null,
      "outputs": []
    },
    {
      "cell_type": "code",
      "source": [
        "print(dataset.RasterCount)"
      ],
      "metadata": {
        "colab": {
          "base_uri": "https://localhost:8080/"
        },
        "id": "HWc1S5fxlLbH",
        "outputId": "b4666859-96cd-4ed5-ad28-c441419fe33c"
      },
      "execution_count": null,
      "outputs": [
        {
          "output_type": "stream",
          "name": "stdout",
          "text": [
            "14\n"
          ]
        }
      ]
    },
    {
      "cell_type": "code",
      "source": [
        "band1 = dataset.GetRasterBand(1) \n",
        "band2 = dataset.GetRasterBand(2) \n",
        "band3 = dataset.GetRasterBand(3) \n",
        "band4 = dataset.GetRasterBand(4) \n",
        "band5 = dataset.GetRasterBand(5) \n",
        "band6 = dataset.GetRasterBand(6) \n",
        "band7 = dataset.GetRasterBand(7) \n",
        "band8 = dataset.GetRasterBand(8) \n",
        "band9 = dataset.GetRasterBand(9) \n",
        "band10 = dataset.GetRasterBand(10) \n",
        "band11 = dataset.GetRasterBand(11) \n",
        "band12 = dataset.GetRasterBand(12) \n",
        "band13 = dataset.GetRasterBand(13) \n",
        "band14 = dataset.GetRasterBand(14) "
      ],
      "metadata": {
        "id": "LLJ0MIlulaTa"
      },
      "execution_count": null,
      "outputs": []
    },
    {
      "cell_type": "code",
      "source": [
        "b1 = band1.ReadAsArray() \n",
        "b2 = band2.ReadAsArray() \n",
        "b3 = band3.ReadAsArray()\n",
        "b4 = band4.ReadAsArray()\n",
        "b5 = band5.ReadAsArray()\n",
        "b6 = band6.ReadAsArray()\n",
        "b7 = band7.ReadAsArray()\n",
        "b8 = band8.ReadAsArray()\n",
        "b9 = band9.ReadAsArray()\n",
        "b10 = band10.ReadAsArray()\n",
        "b11 = band11.ReadAsArray()\n",
        "b12 = band12.ReadAsArray()\n",
        "b13 = band13.ReadAsArray()\n",
        "b14 = band14.ReadAsArray()"
      ],
      "metadata": {
        "id": "O7BxoRDfluCv"
      },
      "execution_count": null,
      "outputs": []
    },
    {
      "cell_type": "code",
      "source": [
        "img = np.dstack((b1, b2, b3, b4, b5, b6, b7, b8, b9, b10, b11, b12, b13, b14)) \n",
        "f = plt.figure() \n",
        "plt.imshow(img) \n",
        "plt.savefig('Tiff.png') \n",
        "plt.show() "
      ],
      "metadata": {
        "id": "mZLRai0TmSGk"
      },
      "execution_count": null,
      "outputs": []
    }
  ]
}